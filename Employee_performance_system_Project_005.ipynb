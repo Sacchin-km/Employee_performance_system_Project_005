{
 "cells": [
  {
   "cell_type": "markdown",
   "id": "214b3151",
   "metadata": {},
   "source": [
    "# Employee Performance System\n"
   ]
  },
  {
   "cell_type": "raw",
   "id": "6042ef49",
   "metadata": {},
   "source": [
    "\n",
    "Client Requirement (Problem statement):\n",
    "\n",
    "One of the clients has a requirement for Building an analytical system for measuring Employee performance. In recent years, the employee performance indexes are not healthy and this has become a growing concern among the top management. The management has decided to initiate a data science project, which analyses the current employee data and find the core underlying causes of the performance issues. They also expect a clear indicators of non-performing employees, so that any penalization of non-performing employee, if required, may not significantly affect other employee morals.\n",
    "\n",
    "The following insights are expected from this project:\n",
    "Q1.\tDepartment wise performances.\n",
    "Q2.\tTop 3 Important Factors effecting employee performance.\n",
    "Q3.\tA trained model which can predict the employee performance based on factors as inputs.\n",
    "Q4.\tRecommendations to improve the employee performance based on insights from analysis.\n",
    "\n",
    "Analysis:\n",
    "\n",
    "The data is supervised and categorical. \n",
    "The predictor variables are ordinal and a few among them are nominal. \n",
    "The target variable 'Performance Rating' is ordinal.\n",
    "To analyze the data, various data processing techniques like Label Encoding and Standardization is used. \n",
    "Correlation Coeffecient is used to interpret the relationship between variables. \n",
    "The most important features selected are Department, Job Role, Environment Satisfaction, Last Salary Hike Percent, Work Life Balance, Experience Years At This Company, Experience Years In Current Role, Years Since Last Promotion, Years With Current Manager.\n",
    "For training the data and predicting the target, algorithms used are Logistic Regression, Random Forest,K-Nearest Neighbor and XGBoost Classifier.\n",
    "A separate analysis of Department wise Performance is to be carried out.\n",
    "\n",
    "Summary:\n",
    "The project is to be done with the purpose of finding out factors which affect the Performance of the employees, training a model which accurately predicts the Performance Rating of the employee, analyzing the data to provide recommendations to improve the performance and gain insights from the analysis. The following steps are needed to be carried out:\n",
    "1.\tImport the data provided, find out the predictor & target variables and look for missing values.\n",
    "2.\tAnalysis of Department wise performance as asked.\n",
    "3.\tLabel Encoding the ordinal columns.\n",
    "4.\tCalculate correlation coefficient to find out the relationship between variables and then select the important features for analysis.\n",
    "5.\tStandardizing the data and splitting it into test and train.\n",
    "6.\tTraining the data using algorithms like Logistic Regression, Random Forest, K-Nearest Neighbour, XGBoost Classifier and   checking the accuracy to find out which algorithm is the best.\n",
    "7.\tExporting the model with highest accuracy.\n",
    "\n"
   ]
  },
  {
   "cell_type": "markdown",
   "id": "f64d2055",
   "metadata": {},
   "source": [
    "# 1.\tImport the data provided, find out the predictor & target variables and look for missing values."
   ]
  },
  {
   "cell_type": "markdown",
   "id": "4a667b37",
   "metadata": {},
   "source": [
    "### Importing Required Libraries and Reading DataSet"
   ]
  },
  {
   "cell_type": "code",
   "execution_count": 1,
   "id": "fe8ee961",
   "metadata": {},
   "outputs": [],
   "source": [
    "import pandas as pd\n",
    "import numpy as np\n",
    "import matplotlib.pyplot as plt\n",
    "import seaborn as sns\n",
    "%matplotlib inline"
   ]
  },
  {
   "cell_type": "code",
   "execution_count": 2,
   "id": "f09861cd",
   "metadata": {},
   "outputs": [
    {
     "data": {
      "text/html": [
       "<div>\n",
       "<style scoped>\n",
       "    .dataframe tbody tr th:only-of-type {\n",
       "        vertical-align: middle;\n",
       "    }\n",
       "\n",
       "    .dataframe tbody tr th {\n",
       "        vertical-align: top;\n",
       "    }\n",
       "\n",
       "    .dataframe thead th {\n",
       "        text-align: right;\n",
       "    }\n",
       "</style>\n",
       "<table border=\"1\" class=\"dataframe\">\n",
       "  <thead>\n",
       "    <tr style=\"text-align: right;\">\n",
       "      <th></th>\n",
       "      <th>EmpNumber</th>\n",
       "      <th>Age</th>\n",
       "      <th>Gender</th>\n",
       "      <th>EducationBackground</th>\n",
       "      <th>MaritalStatus</th>\n",
       "      <th>EmpDepartment</th>\n",
       "      <th>EmpJobRole</th>\n",
       "      <th>BusinessTravelFrequency</th>\n",
       "      <th>DistanceFromHome</th>\n",
       "      <th>EmpEducationLevel</th>\n",
       "      <th>...</th>\n",
       "      <th>EmpRelationshipSatisfaction</th>\n",
       "      <th>TotalWorkExperienceInYears</th>\n",
       "      <th>TrainingTimesLastYear</th>\n",
       "      <th>EmpWorkLifeBalance</th>\n",
       "      <th>ExperienceYearsAtThisCompany</th>\n",
       "      <th>ExperienceYearsInCurrentRole</th>\n",
       "      <th>YearsSinceLastPromotion</th>\n",
       "      <th>YearsWithCurrManager</th>\n",
       "      <th>Attrition</th>\n",
       "      <th>PerformanceRating</th>\n",
       "    </tr>\n",
       "  </thead>\n",
       "  <tbody>\n",
       "    <tr>\n",
       "      <th>0</th>\n",
       "      <td>1001000</td>\n",
       "      <td>32</td>\n",
       "      <td>Male</td>\n",
       "      <td>Marketing</td>\n",
       "      <td>Single</td>\n",
       "      <td>Sales</td>\n",
       "      <td>Sales Executive</td>\n",
       "      <td>Travel_Rarely</td>\n",
       "      <td>10</td>\n",
       "      <td>3</td>\n",
       "      <td>...</td>\n",
       "      <td>4</td>\n",
       "      <td>10</td>\n",
       "      <td>2</td>\n",
       "      <td>2</td>\n",
       "      <td>10</td>\n",
       "      <td>7</td>\n",
       "      <td>0</td>\n",
       "      <td>8</td>\n",
       "      <td>No</td>\n",
       "      <td>3</td>\n",
       "    </tr>\n",
       "    <tr>\n",
       "      <th>1</th>\n",
       "      <td>1001000</td>\n",
       "      <td>47</td>\n",
       "      <td>Male</td>\n",
       "      <td>Marketing</td>\n",
       "      <td>Single</td>\n",
       "      <td>Sales</td>\n",
       "      <td>Sales Executive</td>\n",
       "      <td>Travel_Rarely</td>\n",
       "      <td>14</td>\n",
       "      <td>4</td>\n",
       "      <td>...</td>\n",
       "      <td>4</td>\n",
       "      <td>20</td>\n",
       "      <td>2</td>\n",
       "      <td>3</td>\n",
       "      <td>7</td>\n",
       "      <td>7</td>\n",
       "      <td>1</td>\n",
       "      <td>7</td>\n",
       "      <td>No</td>\n",
       "      <td>3</td>\n",
       "    </tr>\n",
       "    <tr>\n",
       "      <th>2</th>\n",
       "      <td>1001000</td>\n",
       "      <td>40</td>\n",
       "      <td>Male</td>\n",
       "      <td>Life Sciences</td>\n",
       "      <td>Married</td>\n",
       "      <td>Sales</td>\n",
       "      <td>Sales Executive</td>\n",
       "      <td>Travel_Frequently</td>\n",
       "      <td>5</td>\n",
       "      <td>4</td>\n",
       "      <td>...</td>\n",
       "      <td>3</td>\n",
       "      <td>20</td>\n",
       "      <td>2</td>\n",
       "      <td>3</td>\n",
       "      <td>18</td>\n",
       "      <td>13</td>\n",
       "      <td>1</td>\n",
       "      <td>12</td>\n",
       "      <td>No</td>\n",
       "      <td>4</td>\n",
       "    </tr>\n",
       "    <tr>\n",
       "      <th>3</th>\n",
       "      <td>1001000</td>\n",
       "      <td>41</td>\n",
       "      <td>Male</td>\n",
       "      <td>Human Resources</td>\n",
       "      <td>Divorced</td>\n",
       "      <td>Human Resources</td>\n",
       "      <td>Manager</td>\n",
       "      <td>Travel_Rarely</td>\n",
       "      <td>10</td>\n",
       "      <td>4</td>\n",
       "      <td>...</td>\n",
       "      <td>2</td>\n",
       "      <td>23</td>\n",
       "      <td>2</td>\n",
       "      <td>2</td>\n",
       "      <td>21</td>\n",
       "      <td>6</td>\n",
       "      <td>12</td>\n",
       "      <td>6</td>\n",
       "      <td>No</td>\n",
       "      <td>3</td>\n",
       "    </tr>\n",
       "    <tr>\n",
       "      <th>4</th>\n",
       "      <td>1001000</td>\n",
       "      <td>60</td>\n",
       "      <td>Male</td>\n",
       "      <td>Marketing</td>\n",
       "      <td>Single</td>\n",
       "      <td>Sales</td>\n",
       "      <td>Sales Executive</td>\n",
       "      <td>Travel_Rarely</td>\n",
       "      <td>16</td>\n",
       "      <td>4</td>\n",
       "      <td>...</td>\n",
       "      <td>4</td>\n",
       "      <td>10</td>\n",
       "      <td>1</td>\n",
       "      <td>3</td>\n",
       "      <td>2</td>\n",
       "      <td>2</td>\n",
       "      <td>2</td>\n",
       "      <td>2</td>\n",
       "      <td>No</td>\n",
       "      <td>3</td>\n",
       "    </tr>\n",
       "    <tr>\n",
       "      <th>...</th>\n",
       "      <td>...</td>\n",
       "      <td>...</td>\n",
       "      <td>...</td>\n",
       "      <td>...</td>\n",
       "      <td>...</td>\n",
       "      <td>...</td>\n",
       "      <td>...</td>\n",
       "      <td>...</td>\n",
       "      <td>...</td>\n",
       "      <td>...</td>\n",
       "      <td>...</td>\n",
       "      <td>...</td>\n",
       "      <td>...</td>\n",
       "      <td>...</td>\n",
       "      <td>...</td>\n",
       "      <td>...</td>\n",
       "      <td>...</td>\n",
       "      <td>...</td>\n",
       "      <td>...</td>\n",
       "      <td>...</td>\n",
       "      <td>...</td>\n",
       "    </tr>\n",
       "    <tr>\n",
       "      <th>1195</th>\n",
       "      <td>1001000</td>\n",
       "      <td>27</td>\n",
       "      <td>Female</td>\n",
       "      <td>Medical</td>\n",
       "      <td>Divorced</td>\n",
       "      <td>Sales</td>\n",
       "      <td>Sales Executive</td>\n",
       "      <td>Travel_Frequently</td>\n",
       "      <td>3</td>\n",
       "      <td>1</td>\n",
       "      <td>...</td>\n",
       "      <td>2</td>\n",
       "      <td>6</td>\n",
       "      <td>3</td>\n",
       "      <td>3</td>\n",
       "      <td>6</td>\n",
       "      <td>5</td>\n",
       "      <td>0</td>\n",
       "      <td>4</td>\n",
       "      <td>No</td>\n",
       "      <td>4</td>\n",
       "    </tr>\n",
       "    <tr>\n",
       "      <th>1196</th>\n",
       "      <td>1001000</td>\n",
       "      <td>37</td>\n",
       "      <td>Male</td>\n",
       "      <td>Life Sciences</td>\n",
       "      <td>Single</td>\n",
       "      <td>Development</td>\n",
       "      <td>Senior Developer</td>\n",
       "      <td>Travel_Rarely</td>\n",
       "      <td>10</td>\n",
       "      <td>2</td>\n",
       "      <td>...</td>\n",
       "      <td>1</td>\n",
       "      <td>4</td>\n",
       "      <td>2</td>\n",
       "      <td>3</td>\n",
       "      <td>1</td>\n",
       "      <td>0</td>\n",
       "      <td>0</td>\n",
       "      <td>0</td>\n",
       "      <td>No</td>\n",
       "      <td>3</td>\n",
       "    </tr>\n",
       "    <tr>\n",
       "      <th>1197</th>\n",
       "      <td>1001000</td>\n",
       "      <td>50</td>\n",
       "      <td>Male</td>\n",
       "      <td>Medical</td>\n",
       "      <td>Married</td>\n",
       "      <td>Development</td>\n",
       "      <td>Senior Developer</td>\n",
       "      <td>Travel_Rarely</td>\n",
       "      <td>28</td>\n",
       "      <td>1</td>\n",
       "      <td>...</td>\n",
       "      <td>3</td>\n",
       "      <td>20</td>\n",
       "      <td>3</td>\n",
       "      <td>3</td>\n",
       "      <td>20</td>\n",
       "      <td>8</td>\n",
       "      <td>3</td>\n",
       "      <td>8</td>\n",
       "      <td>No</td>\n",
       "      <td>3</td>\n",
       "    </tr>\n",
       "    <tr>\n",
       "      <th>1198</th>\n",
       "      <td>1001000</td>\n",
       "      <td>34</td>\n",
       "      <td>Female</td>\n",
       "      <td>Medical</td>\n",
       "      <td>Single</td>\n",
       "      <td>Data Science</td>\n",
       "      <td>Data Scientist</td>\n",
       "      <td>Travel_Rarely</td>\n",
       "      <td>9</td>\n",
       "      <td>3</td>\n",
       "      <td>...</td>\n",
       "      <td>2</td>\n",
       "      <td>9</td>\n",
       "      <td>3</td>\n",
       "      <td>4</td>\n",
       "      <td>8</td>\n",
       "      <td>7</td>\n",
       "      <td>7</td>\n",
       "      <td>7</td>\n",
       "      <td>No</td>\n",
       "      <td>3</td>\n",
       "    </tr>\n",
       "    <tr>\n",
       "      <th>1199</th>\n",
       "      <td>1001000</td>\n",
       "      <td>24</td>\n",
       "      <td>Female</td>\n",
       "      <td>Life Sciences</td>\n",
       "      <td>Single</td>\n",
       "      <td>Sales</td>\n",
       "      <td>Sales Executive</td>\n",
       "      <td>Travel_Rarely</td>\n",
       "      <td>3</td>\n",
       "      <td>2</td>\n",
       "      <td>...</td>\n",
       "      <td>1</td>\n",
       "      <td>4</td>\n",
       "      <td>3</td>\n",
       "      <td>3</td>\n",
       "      <td>2</td>\n",
       "      <td>2</td>\n",
       "      <td>2</td>\n",
       "      <td>0</td>\n",
       "      <td>Yes</td>\n",
       "      <td>2</td>\n",
       "    </tr>\n",
       "  </tbody>\n",
       "</table>\n",
       "<p>1200 rows × 28 columns</p>\n",
       "</div>"
      ],
      "text/plain": [
       "      EmpNumber  Age  Gender EducationBackground MaritalStatus  \\\n",
       "0       1001000   32    Male           Marketing        Single   \n",
       "1       1001000   47    Male           Marketing        Single   \n",
       "2       1001000   40    Male       Life Sciences       Married   \n",
       "3       1001000   41    Male     Human Resources      Divorced   \n",
       "4       1001000   60    Male           Marketing        Single   \n",
       "...         ...  ...     ...                 ...           ...   \n",
       "1195    1001000   27  Female             Medical      Divorced   \n",
       "1196    1001000   37    Male       Life Sciences        Single   \n",
       "1197    1001000   50    Male             Medical       Married   \n",
       "1198    1001000   34  Female             Medical        Single   \n",
       "1199    1001000   24  Female       Life Sciences        Single   \n",
       "\n",
       "        EmpDepartment        EmpJobRole BusinessTravelFrequency  \\\n",
       "0               Sales   Sales Executive           Travel_Rarely   \n",
       "1               Sales   Sales Executive           Travel_Rarely   \n",
       "2               Sales   Sales Executive       Travel_Frequently   \n",
       "3     Human Resources           Manager           Travel_Rarely   \n",
       "4               Sales   Sales Executive           Travel_Rarely   \n",
       "...               ...               ...                     ...   \n",
       "1195            Sales   Sales Executive       Travel_Frequently   \n",
       "1196      Development  Senior Developer           Travel_Rarely   \n",
       "1197      Development  Senior Developer           Travel_Rarely   \n",
       "1198     Data Science    Data Scientist           Travel_Rarely   \n",
       "1199            Sales   Sales Executive           Travel_Rarely   \n",
       "\n",
       "      DistanceFromHome  EmpEducationLevel  ...  EmpRelationshipSatisfaction  \\\n",
       "0                   10                  3  ...                            4   \n",
       "1                   14                  4  ...                            4   \n",
       "2                    5                  4  ...                            3   \n",
       "3                   10                  4  ...                            2   \n",
       "4                   16                  4  ...                            4   \n",
       "...                ...                ...  ...                          ...   \n",
       "1195                 3                  1  ...                            2   \n",
       "1196                10                  2  ...                            1   \n",
       "1197                28                  1  ...                            3   \n",
       "1198                 9                  3  ...                            2   \n",
       "1199                 3                  2  ...                            1   \n",
       "\n",
       "      TotalWorkExperienceInYears  TrainingTimesLastYear  EmpWorkLifeBalance  \\\n",
       "0                             10                      2                   2   \n",
       "1                             20                      2                   3   \n",
       "2                             20                      2                   3   \n",
       "3                             23                      2                   2   \n",
       "4                             10                      1                   3   \n",
       "...                          ...                    ...                 ...   \n",
       "1195                           6                      3                   3   \n",
       "1196                           4                      2                   3   \n",
       "1197                          20                      3                   3   \n",
       "1198                           9                      3                   4   \n",
       "1199                           4                      3                   3   \n",
       "\n",
       "      ExperienceYearsAtThisCompany  ExperienceYearsInCurrentRole  \\\n",
       "0                               10                             7   \n",
       "1                                7                             7   \n",
       "2                               18                            13   \n",
       "3                               21                             6   \n",
       "4                                2                             2   \n",
       "...                            ...                           ...   \n",
       "1195                             6                             5   \n",
       "1196                             1                             0   \n",
       "1197                            20                             8   \n",
       "1198                             8                             7   \n",
       "1199                             2                             2   \n",
       "\n",
       "     YearsSinceLastPromotion  YearsWithCurrManager  Attrition  \\\n",
       "0                          0                     8         No   \n",
       "1                          1                     7         No   \n",
       "2                          1                    12         No   \n",
       "3                         12                     6         No   \n",
       "4                          2                     2         No   \n",
       "...                      ...                   ...        ...   \n",
       "1195                       0                     4         No   \n",
       "1196                       0                     0         No   \n",
       "1197                       3                     8         No   \n",
       "1198                       7                     7         No   \n",
       "1199                       2                     0        Yes   \n",
       "\n",
       "      PerformanceRating  \n",
       "0                     3  \n",
       "1                     3  \n",
       "2                     4  \n",
       "3                     3  \n",
       "4                     3  \n",
       "...                 ...  \n",
       "1195                  4  \n",
       "1196                  3  \n",
       "1197                  3  \n",
       "1198                  3  \n",
       "1199                  2  \n",
       "\n",
       "[1200 rows x 28 columns]"
      ]
     },
     "execution_count": 2,
     "metadata": {},
     "output_type": "execute_result"
    }
   ],
   "source": [
    "df = pd.read_excel('EPMS_Employee_Performance_Project_Data_.xls')\n",
    "df"
   ]
  },
  {
   "cell_type": "markdown",
   "id": "49f5a943",
   "metadata": {},
   "source": [
    "#### The Dataset Contains 1200 rows and 28 Columns"
   ]
  },
  {
   "cell_type": "code",
   "execution_count": 4,
   "id": "bc179331",
   "metadata": {},
   "outputs": [
    {
     "data": {
      "text/html": [
       "<div>\n",
       "<style scoped>\n",
       "    .dataframe tbody tr th:only-of-type {\n",
       "        vertical-align: middle;\n",
       "    }\n",
       "\n",
       "    .dataframe tbody tr th {\n",
       "        vertical-align: top;\n",
       "    }\n",
       "\n",
       "    .dataframe thead th {\n",
       "        text-align: right;\n",
       "    }\n",
       "</style>\n",
       "<table border=\"1\" class=\"dataframe\">\n",
       "  <thead>\n",
       "    <tr style=\"text-align: right;\">\n",
       "      <th></th>\n",
       "      <th>EmpNumber</th>\n",
       "      <th>Age</th>\n",
       "      <th>Gender</th>\n",
       "      <th>EducationBackground</th>\n",
       "      <th>MaritalStatus</th>\n",
       "      <th>EmpDepartment</th>\n",
       "      <th>EmpJobRole</th>\n",
       "      <th>BusinessTravelFrequency</th>\n",
       "      <th>DistanceFromHome</th>\n",
       "      <th>EmpEducationLevel</th>\n",
       "      <th>...</th>\n",
       "      <th>EmpRelationshipSatisfaction</th>\n",
       "      <th>TotalWorkExperienceInYears</th>\n",
       "      <th>TrainingTimesLastYear</th>\n",
       "      <th>EmpWorkLifeBalance</th>\n",
       "      <th>ExperienceYearsAtThisCompany</th>\n",
       "      <th>ExperienceYearsInCurrentRole</th>\n",
       "      <th>YearsSinceLastPromotion</th>\n",
       "      <th>YearsWithCurrManager</th>\n",
       "      <th>Attrition</th>\n",
       "      <th>PerformanceRating</th>\n",
       "    </tr>\n",
       "  </thead>\n",
       "  <tbody>\n",
       "    <tr>\n",
       "      <th>0</th>\n",
       "      <td>1001000</td>\n",
       "      <td>32</td>\n",
       "      <td>Male</td>\n",
       "      <td>Marketing</td>\n",
       "      <td>Single</td>\n",
       "      <td>Sales</td>\n",
       "      <td>Sales Executive</td>\n",
       "      <td>Travel_Rarely</td>\n",
       "      <td>10</td>\n",
       "      <td>3</td>\n",
       "      <td>...</td>\n",
       "      <td>4</td>\n",
       "      <td>10</td>\n",
       "      <td>2</td>\n",
       "      <td>2</td>\n",
       "      <td>10</td>\n",
       "      <td>7</td>\n",
       "      <td>0</td>\n",
       "      <td>8</td>\n",
       "      <td>No</td>\n",
       "      <td>3</td>\n",
       "    </tr>\n",
       "    <tr>\n",
       "      <th>1</th>\n",
       "      <td>1001000</td>\n",
       "      <td>47</td>\n",
       "      <td>Male</td>\n",
       "      <td>Marketing</td>\n",
       "      <td>Single</td>\n",
       "      <td>Sales</td>\n",
       "      <td>Sales Executive</td>\n",
       "      <td>Travel_Rarely</td>\n",
       "      <td>14</td>\n",
       "      <td>4</td>\n",
       "      <td>...</td>\n",
       "      <td>4</td>\n",
       "      <td>20</td>\n",
       "      <td>2</td>\n",
       "      <td>3</td>\n",
       "      <td>7</td>\n",
       "      <td>7</td>\n",
       "      <td>1</td>\n",
       "      <td>7</td>\n",
       "      <td>No</td>\n",
       "      <td>3</td>\n",
       "    </tr>\n",
       "    <tr>\n",
       "      <th>2</th>\n",
       "      <td>1001000</td>\n",
       "      <td>40</td>\n",
       "      <td>Male</td>\n",
       "      <td>Life Sciences</td>\n",
       "      <td>Married</td>\n",
       "      <td>Sales</td>\n",
       "      <td>Sales Executive</td>\n",
       "      <td>Travel_Frequently</td>\n",
       "      <td>5</td>\n",
       "      <td>4</td>\n",
       "      <td>...</td>\n",
       "      <td>3</td>\n",
       "      <td>20</td>\n",
       "      <td>2</td>\n",
       "      <td>3</td>\n",
       "      <td>18</td>\n",
       "      <td>13</td>\n",
       "      <td>1</td>\n",
       "      <td>12</td>\n",
       "      <td>No</td>\n",
       "      <td>4</td>\n",
       "    </tr>\n",
       "    <tr>\n",
       "      <th>3</th>\n",
       "      <td>1001000</td>\n",
       "      <td>41</td>\n",
       "      <td>Male</td>\n",
       "      <td>Human Resources</td>\n",
       "      <td>Divorced</td>\n",
       "      <td>Human Resources</td>\n",
       "      <td>Manager</td>\n",
       "      <td>Travel_Rarely</td>\n",
       "      <td>10</td>\n",
       "      <td>4</td>\n",
       "      <td>...</td>\n",
       "      <td>2</td>\n",
       "      <td>23</td>\n",
       "      <td>2</td>\n",
       "      <td>2</td>\n",
       "      <td>21</td>\n",
       "      <td>6</td>\n",
       "      <td>12</td>\n",
       "      <td>6</td>\n",
       "      <td>No</td>\n",
       "      <td>3</td>\n",
       "    </tr>\n",
       "    <tr>\n",
       "      <th>4</th>\n",
       "      <td>1001000</td>\n",
       "      <td>60</td>\n",
       "      <td>Male</td>\n",
       "      <td>Marketing</td>\n",
       "      <td>Single</td>\n",
       "      <td>Sales</td>\n",
       "      <td>Sales Executive</td>\n",
       "      <td>Travel_Rarely</td>\n",
       "      <td>16</td>\n",
       "      <td>4</td>\n",
       "      <td>...</td>\n",
       "      <td>4</td>\n",
       "      <td>10</td>\n",
       "      <td>1</td>\n",
       "      <td>3</td>\n",
       "      <td>2</td>\n",
       "      <td>2</td>\n",
       "      <td>2</td>\n",
       "      <td>2</td>\n",
       "      <td>No</td>\n",
       "      <td>3</td>\n",
       "    </tr>\n",
       "  </tbody>\n",
       "</table>\n",
       "<p>5 rows × 28 columns</p>\n",
       "</div>"
      ],
      "text/plain": [
       "   EmpNumber  Age Gender EducationBackground MaritalStatus    EmpDepartment  \\\n",
       "0    1001000   32   Male           Marketing        Single            Sales   \n",
       "1    1001000   47   Male           Marketing        Single            Sales   \n",
       "2    1001000   40   Male       Life Sciences       Married            Sales   \n",
       "3    1001000   41   Male     Human Resources      Divorced  Human Resources   \n",
       "4    1001000   60   Male           Marketing        Single            Sales   \n",
       "\n",
       "        EmpJobRole BusinessTravelFrequency  DistanceFromHome  \\\n",
       "0  Sales Executive           Travel_Rarely                10   \n",
       "1  Sales Executive           Travel_Rarely                14   \n",
       "2  Sales Executive       Travel_Frequently                 5   \n",
       "3          Manager           Travel_Rarely                10   \n",
       "4  Sales Executive           Travel_Rarely                16   \n",
       "\n",
       "   EmpEducationLevel  ...  EmpRelationshipSatisfaction  \\\n",
       "0                  3  ...                            4   \n",
       "1                  4  ...                            4   \n",
       "2                  4  ...                            3   \n",
       "3                  4  ...                            2   \n",
       "4                  4  ...                            4   \n",
       "\n",
       "   TotalWorkExperienceInYears  TrainingTimesLastYear  EmpWorkLifeBalance  \\\n",
       "0                          10                      2                   2   \n",
       "1                          20                      2                   3   \n",
       "2                          20                      2                   3   \n",
       "3                          23                      2                   2   \n",
       "4                          10                      1                   3   \n",
       "\n",
       "   ExperienceYearsAtThisCompany  ExperienceYearsInCurrentRole  \\\n",
       "0                            10                             7   \n",
       "1                             7                             7   \n",
       "2                            18                            13   \n",
       "3                            21                             6   \n",
       "4                             2                             2   \n",
       "\n",
       "  YearsSinceLastPromotion  YearsWithCurrManager  Attrition  PerformanceRating  \n",
       "0                       0                     8         No                  3  \n",
       "1                       1                     7         No                  3  \n",
       "2                       1                    12         No                  4  \n",
       "3                      12                     6         No                  3  \n",
       "4                       2                     2         No                  3  \n",
       "\n",
       "[5 rows x 28 columns]"
      ]
     },
     "execution_count": 4,
     "metadata": {},
     "output_type": "execute_result"
    }
   ],
   "source": [
    "df.head()"
   ]
  },
  {
   "cell_type": "code",
   "execution_count": 5,
   "id": "cdc49728",
   "metadata": {},
   "outputs": [
    {
     "data": {
      "text/html": [
       "<div>\n",
       "<style scoped>\n",
       "    .dataframe tbody tr th:only-of-type {\n",
       "        vertical-align: middle;\n",
       "    }\n",
       "\n",
       "    .dataframe tbody tr th {\n",
       "        vertical-align: top;\n",
       "    }\n",
       "\n",
       "    .dataframe thead th {\n",
       "        text-align: right;\n",
       "    }\n",
       "</style>\n",
       "<table border=\"1\" class=\"dataframe\">\n",
       "  <thead>\n",
       "    <tr style=\"text-align: right;\">\n",
       "      <th></th>\n",
       "      <th>EmpNumber</th>\n",
       "      <th>Age</th>\n",
       "      <th>Gender</th>\n",
       "      <th>EducationBackground</th>\n",
       "      <th>MaritalStatus</th>\n",
       "      <th>EmpDepartment</th>\n",
       "      <th>EmpJobRole</th>\n",
       "      <th>BusinessTravelFrequency</th>\n",
       "      <th>DistanceFromHome</th>\n",
       "      <th>EmpEducationLevel</th>\n",
       "      <th>...</th>\n",
       "      <th>EmpRelationshipSatisfaction</th>\n",
       "      <th>TotalWorkExperienceInYears</th>\n",
       "      <th>TrainingTimesLastYear</th>\n",
       "      <th>EmpWorkLifeBalance</th>\n",
       "      <th>ExperienceYearsAtThisCompany</th>\n",
       "      <th>ExperienceYearsInCurrentRole</th>\n",
       "      <th>YearsSinceLastPromotion</th>\n",
       "      <th>YearsWithCurrManager</th>\n",
       "      <th>Attrition</th>\n",
       "      <th>PerformanceRating</th>\n",
       "    </tr>\n",
       "  </thead>\n",
       "  <tbody>\n",
       "    <tr>\n",
       "      <th>1195</th>\n",
       "      <td>1001000</td>\n",
       "      <td>27</td>\n",
       "      <td>Female</td>\n",
       "      <td>Medical</td>\n",
       "      <td>Divorced</td>\n",
       "      <td>Sales</td>\n",
       "      <td>Sales Executive</td>\n",
       "      <td>Travel_Frequently</td>\n",
       "      <td>3</td>\n",
       "      <td>1</td>\n",
       "      <td>...</td>\n",
       "      <td>2</td>\n",
       "      <td>6</td>\n",
       "      <td>3</td>\n",
       "      <td>3</td>\n",
       "      <td>6</td>\n",
       "      <td>5</td>\n",
       "      <td>0</td>\n",
       "      <td>4</td>\n",
       "      <td>No</td>\n",
       "      <td>4</td>\n",
       "    </tr>\n",
       "    <tr>\n",
       "      <th>1196</th>\n",
       "      <td>1001000</td>\n",
       "      <td>37</td>\n",
       "      <td>Male</td>\n",
       "      <td>Life Sciences</td>\n",
       "      <td>Single</td>\n",
       "      <td>Development</td>\n",
       "      <td>Senior Developer</td>\n",
       "      <td>Travel_Rarely</td>\n",
       "      <td>10</td>\n",
       "      <td>2</td>\n",
       "      <td>...</td>\n",
       "      <td>1</td>\n",
       "      <td>4</td>\n",
       "      <td>2</td>\n",
       "      <td>3</td>\n",
       "      <td>1</td>\n",
       "      <td>0</td>\n",
       "      <td>0</td>\n",
       "      <td>0</td>\n",
       "      <td>No</td>\n",
       "      <td>3</td>\n",
       "    </tr>\n",
       "    <tr>\n",
       "      <th>1197</th>\n",
       "      <td>1001000</td>\n",
       "      <td>50</td>\n",
       "      <td>Male</td>\n",
       "      <td>Medical</td>\n",
       "      <td>Married</td>\n",
       "      <td>Development</td>\n",
       "      <td>Senior Developer</td>\n",
       "      <td>Travel_Rarely</td>\n",
       "      <td>28</td>\n",
       "      <td>1</td>\n",
       "      <td>...</td>\n",
       "      <td>3</td>\n",
       "      <td>20</td>\n",
       "      <td>3</td>\n",
       "      <td>3</td>\n",
       "      <td>20</td>\n",
       "      <td>8</td>\n",
       "      <td>3</td>\n",
       "      <td>8</td>\n",
       "      <td>No</td>\n",
       "      <td>3</td>\n",
       "    </tr>\n",
       "    <tr>\n",
       "      <th>1198</th>\n",
       "      <td>1001000</td>\n",
       "      <td>34</td>\n",
       "      <td>Female</td>\n",
       "      <td>Medical</td>\n",
       "      <td>Single</td>\n",
       "      <td>Data Science</td>\n",
       "      <td>Data Scientist</td>\n",
       "      <td>Travel_Rarely</td>\n",
       "      <td>9</td>\n",
       "      <td>3</td>\n",
       "      <td>...</td>\n",
       "      <td>2</td>\n",
       "      <td>9</td>\n",
       "      <td>3</td>\n",
       "      <td>4</td>\n",
       "      <td>8</td>\n",
       "      <td>7</td>\n",
       "      <td>7</td>\n",
       "      <td>7</td>\n",
       "      <td>No</td>\n",
       "      <td>3</td>\n",
       "    </tr>\n",
       "    <tr>\n",
       "      <th>1199</th>\n",
       "      <td>1001000</td>\n",
       "      <td>24</td>\n",
       "      <td>Female</td>\n",
       "      <td>Life Sciences</td>\n",
       "      <td>Single</td>\n",
       "      <td>Sales</td>\n",
       "      <td>Sales Executive</td>\n",
       "      <td>Travel_Rarely</td>\n",
       "      <td>3</td>\n",
       "      <td>2</td>\n",
       "      <td>...</td>\n",
       "      <td>1</td>\n",
       "      <td>4</td>\n",
       "      <td>3</td>\n",
       "      <td>3</td>\n",
       "      <td>2</td>\n",
       "      <td>2</td>\n",
       "      <td>2</td>\n",
       "      <td>0</td>\n",
       "      <td>Yes</td>\n",
       "      <td>2</td>\n",
       "    </tr>\n",
       "  </tbody>\n",
       "</table>\n",
       "<p>5 rows × 28 columns</p>\n",
       "</div>"
      ],
      "text/plain": [
       "      EmpNumber  Age  Gender EducationBackground MaritalStatus EmpDepartment  \\\n",
       "1195    1001000   27  Female             Medical      Divorced         Sales   \n",
       "1196    1001000   37    Male       Life Sciences        Single   Development   \n",
       "1197    1001000   50    Male             Medical       Married   Development   \n",
       "1198    1001000   34  Female             Medical        Single  Data Science   \n",
       "1199    1001000   24  Female       Life Sciences        Single         Sales   \n",
       "\n",
       "            EmpJobRole BusinessTravelFrequency  DistanceFromHome  \\\n",
       "1195   Sales Executive       Travel_Frequently                 3   \n",
       "1196  Senior Developer           Travel_Rarely                10   \n",
       "1197  Senior Developer           Travel_Rarely                28   \n",
       "1198    Data Scientist           Travel_Rarely                 9   \n",
       "1199   Sales Executive           Travel_Rarely                 3   \n",
       "\n",
       "      EmpEducationLevel  ...  EmpRelationshipSatisfaction  \\\n",
       "1195                  1  ...                            2   \n",
       "1196                  2  ...                            1   \n",
       "1197                  1  ...                            3   \n",
       "1198                  3  ...                            2   \n",
       "1199                  2  ...                            1   \n",
       "\n",
       "      TotalWorkExperienceInYears  TrainingTimesLastYear  EmpWorkLifeBalance  \\\n",
       "1195                           6                      3                   3   \n",
       "1196                           4                      2                   3   \n",
       "1197                          20                      3                   3   \n",
       "1198                           9                      3                   4   \n",
       "1199                           4                      3                   3   \n",
       "\n",
       "      ExperienceYearsAtThisCompany  ExperienceYearsInCurrentRole  \\\n",
       "1195                             6                             5   \n",
       "1196                             1                             0   \n",
       "1197                            20                             8   \n",
       "1198                             8                             7   \n",
       "1199                             2                             2   \n",
       "\n",
       "     YearsSinceLastPromotion  YearsWithCurrManager  Attrition  \\\n",
       "1195                       0                     4         No   \n",
       "1196                       0                     0         No   \n",
       "1197                       3                     8         No   \n",
       "1198                       7                     7         No   \n",
       "1199                       2                     0        Yes   \n",
       "\n",
       "      PerformanceRating  \n",
       "1195                  4  \n",
       "1196                  3  \n",
       "1197                  3  \n",
       "1198                  3  \n",
       "1199                  2  \n",
       "\n",
       "[5 rows x 28 columns]"
      ]
     },
     "execution_count": 5,
     "metadata": {},
     "output_type": "execute_result"
    }
   ],
   "source": [
    "df.tail()"
   ]
  },
  {
   "cell_type": "code",
   "execution_count": 6,
   "id": "566a70f1",
   "metadata": {},
   "outputs": [
    {
     "data": {
      "text/plain": [
       "(1200, 28)"
      ]
     },
     "execution_count": 6,
     "metadata": {},
     "output_type": "execute_result"
    }
   ],
   "source": [
    "df.shape"
   ]
  },
  {
   "cell_type": "code",
   "execution_count": 7,
   "id": "530fafec",
   "metadata": {},
   "outputs": [
    {
     "data": {
      "text/html": [
       "<div>\n",
       "<style scoped>\n",
       "    .dataframe tbody tr th:only-of-type {\n",
       "        vertical-align: middle;\n",
       "    }\n",
       "\n",
       "    .dataframe tbody tr th {\n",
       "        vertical-align: top;\n",
       "    }\n",
       "\n",
       "    .dataframe thead th {\n",
       "        text-align: right;\n",
       "    }\n",
       "</style>\n",
       "<table border=\"1\" class=\"dataframe\">\n",
       "  <thead>\n",
       "    <tr style=\"text-align: right;\">\n",
       "      <th></th>\n",
       "      <th>EmpNumber</th>\n",
       "      <th>Age</th>\n",
       "      <th>Gender</th>\n",
       "      <th>EducationBackground</th>\n",
       "      <th>MaritalStatus</th>\n",
       "      <th>EmpDepartment</th>\n",
       "      <th>EmpJobRole</th>\n",
       "      <th>BusinessTravelFrequency</th>\n",
       "      <th>DistanceFromHome</th>\n",
       "      <th>EmpEducationLevel</th>\n",
       "      <th>...</th>\n",
       "      <th>EmpRelationshipSatisfaction</th>\n",
       "      <th>TotalWorkExperienceInYears</th>\n",
       "      <th>TrainingTimesLastYear</th>\n",
       "      <th>EmpWorkLifeBalance</th>\n",
       "      <th>ExperienceYearsAtThisCompany</th>\n",
       "      <th>ExperienceYearsInCurrentRole</th>\n",
       "      <th>YearsSinceLastPromotion</th>\n",
       "      <th>YearsWithCurrManager</th>\n",
       "      <th>Attrition</th>\n",
       "      <th>PerformanceRating</th>\n",
       "    </tr>\n",
       "  </thead>\n",
       "  <tbody>\n",
       "    <tr>\n",
       "      <th>0</th>\n",
       "      <td>False</td>\n",
       "      <td>False</td>\n",
       "      <td>False</td>\n",
       "      <td>False</td>\n",
       "      <td>False</td>\n",
       "      <td>False</td>\n",
       "      <td>False</td>\n",
       "      <td>False</td>\n",
       "      <td>False</td>\n",
       "      <td>False</td>\n",
       "      <td>...</td>\n",
       "      <td>False</td>\n",
       "      <td>False</td>\n",
       "      <td>False</td>\n",
       "      <td>False</td>\n",
       "      <td>False</td>\n",
       "      <td>False</td>\n",
       "      <td>False</td>\n",
       "      <td>False</td>\n",
       "      <td>False</td>\n",
       "      <td>False</td>\n",
       "    </tr>\n",
       "    <tr>\n",
       "      <th>1</th>\n",
       "      <td>False</td>\n",
       "      <td>False</td>\n",
       "      <td>False</td>\n",
       "      <td>False</td>\n",
       "      <td>False</td>\n",
       "      <td>False</td>\n",
       "      <td>False</td>\n",
       "      <td>False</td>\n",
       "      <td>False</td>\n",
       "      <td>False</td>\n",
       "      <td>...</td>\n",
       "      <td>False</td>\n",
       "      <td>False</td>\n",
       "      <td>False</td>\n",
       "      <td>False</td>\n",
       "      <td>False</td>\n",
       "      <td>False</td>\n",
       "      <td>False</td>\n",
       "      <td>False</td>\n",
       "      <td>False</td>\n",
       "      <td>False</td>\n",
       "    </tr>\n",
       "    <tr>\n",
       "      <th>2</th>\n",
       "      <td>False</td>\n",
       "      <td>False</td>\n",
       "      <td>False</td>\n",
       "      <td>False</td>\n",
       "      <td>False</td>\n",
       "      <td>False</td>\n",
       "      <td>False</td>\n",
       "      <td>False</td>\n",
       "      <td>False</td>\n",
       "      <td>False</td>\n",
       "      <td>...</td>\n",
       "      <td>False</td>\n",
       "      <td>False</td>\n",
       "      <td>False</td>\n",
       "      <td>False</td>\n",
       "      <td>False</td>\n",
       "      <td>False</td>\n",
       "      <td>False</td>\n",
       "      <td>False</td>\n",
       "      <td>False</td>\n",
       "      <td>False</td>\n",
       "    </tr>\n",
       "    <tr>\n",
       "      <th>3</th>\n",
       "      <td>False</td>\n",
       "      <td>False</td>\n",
       "      <td>False</td>\n",
       "      <td>False</td>\n",
       "      <td>False</td>\n",
       "      <td>False</td>\n",
       "      <td>False</td>\n",
       "      <td>False</td>\n",
       "      <td>False</td>\n",
       "      <td>False</td>\n",
       "      <td>...</td>\n",
       "      <td>False</td>\n",
       "      <td>False</td>\n",
       "      <td>False</td>\n",
       "      <td>False</td>\n",
       "      <td>False</td>\n",
       "      <td>False</td>\n",
       "      <td>False</td>\n",
       "      <td>False</td>\n",
       "      <td>False</td>\n",
       "      <td>False</td>\n",
       "    </tr>\n",
       "    <tr>\n",
       "      <th>4</th>\n",
       "      <td>False</td>\n",
       "      <td>False</td>\n",
       "      <td>False</td>\n",
       "      <td>False</td>\n",
       "      <td>False</td>\n",
       "      <td>False</td>\n",
       "      <td>False</td>\n",
       "      <td>False</td>\n",
       "      <td>False</td>\n",
       "      <td>False</td>\n",
       "      <td>...</td>\n",
       "      <td>False</td>\n",
       "      <td>False</td>\n",
       "      <td>False</td>\n",
       "      <td>False</td>\n",
       "      <td>False</td>\n",
       "      <td>False</td>\n",
       "      <td>False</td>\n",
       "      <td>False</td>\n",
       "      <td>False</td>\n",
       "      <td>False</td>\n",
       "    </tr>\n",
       "    <tr>\n",
       "      <th>...</th>\n",
       "      <td>...</td>\n",
       "      <td>...</td>\n",
       "      <td>...</td>\n",
       "      <td>...</td>\n",
       "      <td>...</td>\n",
       "      <td>...</td>\n",
       "      <td>...</td>\n",
       "      <td>...</td>\n",
       "      <td>...</td>\n",
       "      <td>...</td>\n",
       "      <td>...</td>\n",
       "      <td>...</td>\n",
       "      <td>...</td>\n",
       "      <td>...</td>\n",
       "      <td>...</td>\n",
       "      <td>...</td>\n",
       "      <td>...</td>\n",
       "      <td>...</td>\n",
       "      <td>...</td>\n",
       "      <td>...</td>\n",
       "      <td>...</td>\n",
       "    </tr>\n",
       "    <tr>\n",
       "      <th>1195</th>\n",
       "      <td>False</td>\n",
       "      <td>False</td>\n",
       "      <td>False</td>\n",
       "      <td>False</td>\n",
       "      <td>False</td>\n",
       "      <td>False</td>\n",
       "      <td>False</td>\n",
       "      <td>False</td>\n",
       "      <td>False</td>\n",
       "      <td>False</td>\n",
       "      <td>...</td>\n",
       "      <td>False</td>\n",
       "      <td>False</td>\n",
       "      <td>False</td>\n",
       "      <td>False</td>\n",
       "      <td>False</td>\n",
       "      <td>False</td>\n",
       "      <td>False</td>\n",
       "      <td>False</td>\n",
       "      <td>False</td>\n",
       "      <td>False</td>\n",
       "    </tr>\n",
       "    <tr>\n",
       "      <th>1196</th>\n",
       "      <td>False</td>\n",
       "      <td>False</td>\n",
       "      <td>False</td>\n",
       "      <td>False</td>\n",
       "      <td>False</td>\n",
       "      <td>False</td>\n",
       "      <td>False</td>\n",
       "      <td>False</td>\n",
       "      <td>False</td>\n",
       "      <td>False</td>\n",
       "      <td>...</td>\n",
       "      <td>False</td>\n",
       "      <td>False</td>\n",
       "      <td>False</td>\n",
       "      <td>False</td>\n",
       "      <td>False</td>\n",
       "      <td>False</td>\n",
       "      <td>False</td>\n",
       "      <td>False</td>\n",
       "      <td>False</td>\n",
       "      <td>False</td>\n",
       "    </tr>\n",
       "    <tr>\n",
       "      <th>1197</th>\n",
       "      <td>False</td>\n",
       "      <td>False</td>\n",
       "      <td>False</td>\n",
       "      <td>False</td>\n",
       "      <td>False</td>\n",
       "      <td>False</td>\n",
       "      <td>False</td>\n",
       "      <td>False</td>\n",
       "      <td>False</td>\n",
       "      <td>False</td>\n",
       "      <td>...</td>\n",
       "      <td>False</td>\n",
       "      <td>False</td>\n",
       "      <td>False</td>\n",
       "      <td>False</td>\n",
       "      <td>False</td>\n",
       "      <td>False</td>\n",
       "      <td>False</td>\n",
       "      <td>False</td>\n",
       "      <td>False</td>\n",
       "      <td>False</td>\n",
       "    </tr>\n",
       "    <tr>\n",
       "      <th>1198</th>\n",
       "      <td>False</td>\n",
       "      <td>False</td>\n",
       "      <td>False</td>\n",
       "      <td>False</td>\n",
       "      <td>False</td>\n",
       "      <td>False</td>\n",
       "      <td>False</td>\n",
       "      <td>False</td>\n",
       "      <td>False</td>\n",
       "      <td>False</td>\n",
       "      <td>...</td>\n",
       "      <td>False</td>\n",
       "      <td>False</td>\n",
       "      <td>False</td>\n",
       "      <td>False</td>\n",
       "      <td>False</td>\n",
       "      <td>False</td>\n",
       "      <td>False</td>\n",
       "      <td>False</td>\n",
       "      <td>False</td>\n",
       "      <td>False</td>\n",
       "    </tr>\n",
       "    <tr>\n",
       "      <th>1199</th>\n",
       "      <td>False</td>\n",
       "      <td>False</td>\n",
       "      <td>False</td>\n",
       "      <td>False</td>\n",
       "      <td>False</td>\n",
       "      <td>False</td>\n",
       "      <td>False</td>\n",
       "      <td>False</td>\n",
       "      <td>False</td>\n",
       "      <td>False</td>\n",
       "      <td>...</td>\n",
       "      <td>False</td>\n",
       "      <td>False</td>\n",
       "      <td>False</td>\n",
       "      <td>False</td>\n",
       "      <td>False</td>\n",
       "      <td>False</td>\n",
       "      <td>False</td>\n",
       "      <td>False</td>\n",
       "      <td>False</td>\n",
       "      <td>False</td>\n",
       "    </tr>\n",
       "  </tbody>\n",
       "</table>\n",
       "<p>1200 rows × 28 columns</p>\n",
       "</div>"
      ],
      "text/plain": [
       "      EmpNumber    Age  Gender  EducationBackground  MaritalStatus  \\\n",
       "0         False  False   False                False          False   \n",
       "1         False  False   False                False          False   \n",
       "2         False  False   False                False          False   \n",
       "3         False  False   False                False          False   \n",
       "4         False  False   False                False          False   \n",
       "...         ...    ...     ...                  ...            ...   \n",
       "1195      False  False   False                False          False   \n",
       "1196      False  False   False                False          False   \n",
       "1197      False  False   False                False          False   \n",
       "1198      False  False   False                False          False   \n",
       "1199      False  False   False                False          False   \n",
       "\n",
       "      EmpDepartment  EmpJobRole  BusinessTravelFrequency  DistanceFromHome  \\\n",
       "0             False       False                    False             False   \n",
       "1             False       False                    False             False   \n",
       "2             False       False                    False             False   \n",
       "3             False       False                    False             False   \n",
       "4             False       False                    False             False   \n",
       "...             ...         ...                      ...               ...   \n",
       "1195          False       False                    False             False   \n",
       "1196          False       False                    False             False   \n",
       "1197          False       False                    False             False   \n",
       "1198          False       False                    False             False   \n",
       "1199          False       False                    False             False   \n",
       "\n",
       "      EmpEducationLevel  ...  EmpRelationshipSatisfaction  \\\n",
       "0                 False  ...                        False   \n",
       "1                 False  ...                        False   \n",
       "2                 False  ...                        False   \n",
       "3                 False  ...                        False   \n",
       "4                 False  ...                        False   \n",
       "...                 ...  ...                          ...   \n",
       "1195              False  ...                        False   \n",
       "1196              False  ...                        False   \n",
       "1197              False  ...                        False   \n",
       "1198              False  ...                        False   \n",
       "1199              False  ...                        False   \n",
       "\n",
       "      TotalWorkExperienceInYears  TrainingTimesLastYear  EmpWorkLifeBalance  \\\n",
       "0                          False                  False               False   \n",
       "1                          False                  False               False   \n",
       "2                          False                  False               False   \n",
       "3                          False                  False               False   \n",
       "4                          False                  False               False   \n",
       "...                          ...                    ...                 ...   \n",
       "1195                       False                  False               False   \n",
       "1196                       False                  False               False   \n",
       "1197                       False                  False               False   \n",
       "1198                       False                  False               False   \n",
       "1199                       False                  False               False   \n",
       "\n",
       "      ExperienceYearsAtThisCompany  ExperienceYearsInCurrentRole  \\\n",
       "0                            False                         False   \n",
       "1                            False                         False   \n",
       "2                            False                         False   \n",
       "3                            False                         False   \n",
       "4                            False                         False   \n",
       "...                            ...                           ...   \n",
       "1195                         False                         False   \n",
       "1196                         False                         False   \n",
       "1197                         False                         False   \n",
       "1198                         False                         False   \n",
       "1199                         False                         False   \n",
       "\n",
       "      YearsSinceLastPromotion  YearsWithCurrManager  Attrition  \\\n",
       "0                       False                 False      False   \n",
       "1                       False                 False      False   \n",
       "2                       False                 False      False   \n",
       "3                       False                 False      False   \n",
       "4                       False                 False      False   \n",
       "...                       ...                   ...        ...   \n",
       "1195                    False                 False      False   \n",
       "1196                    False                 False      False   \n",
       "1197                    False                 False      False   \n",
       "1198                    False                 False      False   \n",
       "1199                    False                 False      False   \n",
       "\n",
       "      PerformanceRating  \n",
       "0                 False  \n",
       "1                 False  \n",
       "2                 False  \n",
       "3                 False  \n",
       "4                 False  \n",
       "...                 ...  \n",
       "1195              False  \n",
       "1196              False  \n",
       "1197              False  \n",
       "1198              False  \n",
       "1199              False  \n",
       "\n",
       "[1200 rows x 28 columns]"
      ]
     },
     "execution_count": 7,
     "metadata": {},
     "output_type": "execute_result"
    }
   ],
   "source": [
    "df.isnull()"
   ]
  },
  {
   "cell_type": "code",
   "execution_count": 8,
   "id": "6f1c9708",
   "metadata": {},
   "outputs": [
    {
     "data": {
      "text/plain": [
       "EmpNumber                       0\n",
       "Age                             0\n",
       "Gender                          0\n",
       "EducationBackground             0\n",
       "MaritalStatus                   0\n",
       "EmpDepartment                   0\n",
       "EmpJobRole                      0\n",
       "BusinessTravelFrequency         0\n",
       "DistanceFromHome                0\n",
       "EmpEducationLevel               0\n",
       "EmpEnvironmentSatisfaction      0\n",
       "EmpHourlyRate                   0\n",
       "EmpJobInvolvement               0\n",
       "EmpJobLevel                     0\n",
       "EmpJobSatisfaction              0\n",
       "NumCompaniesWorked              0\n",
       "OverTime                        0\n",
       "EmpLastSalaryHikePercent        0\n",
       "EmpRelationshipSatisfaction     0\n",
       "TotalWorkExperienceInYears      0\n",
       "TrainingTimesLastYear           0\n",
       "EmpWorkLifeBalance              0\n",
       "ExperienceYearsAtThisCompany    0\n",
       "ExperienceYearsInCurrentRole    0\n",
       "YearsSinceLastPromotion         0\n",
       "YearsWithCurrManager            0\n",
       "Attrition                       0\n",
       "PerformanceRating               0\n",
       "dtype: int64"
      ]
     },
     "execution_count": 8,
     "metadata": {},
     "output_type": "execute_result"
    }
   ],
   "source": [
    "df.isnull().sum()"
   ]
  },
  {
   "cell_type": "code",
   "execution_count": 10,
   "id": "1a32cb8f",
   "metadata": {},
   "outputs": [
    {
     "name": "stdout",
     "output_type": "stream",
     "text": [
      "<class 'pandas.core.frame.DataFrame'>\n",
      "RangeIndex: 1200 entries, 0 to 1199\n",
      "Data columns (total 28 columns):\n",
      " #   Column                        Non-Null Count  Dtype \n",
      "---  ------                        --------------  ----- \n",
      " 0   EmpNumber                     1200 non-null   int64 \n",
      " 1   Age                           1200 non-null   int64 \n",
      " 2   Gender                        1200 non-null   object\n",
      " 3   EducationBackground           1200 non-null   object\n",
      " 4   MaritalStatus                 1200 non-null   object\n",
      " 5   EmpDepartment                 1200 non-null   object\n",
      " 6   EmpJobRole                    1200 non-null   object\n",
      " 7   BusinessTravelFrequency       1200 non-null   object\n",
      " 8   DistanceFromHome              1200 non-null   int64 \n",
      " 9   EmpEducationLevel             1200 non-null   int64 \n",
      " 10  EmpEnvironmentSatisfaction    1200 non-null   int64 \n",
      " 11  EmpHourlyRate                 1200 non-null   int64 \n",
      " 12  EmpJobInvolvement             1200 non-null   int64 \n",
      " 13  EmpJobLevel                   1200 non-null   int64 \n",
      " 14  EmpJobSatisfaction            1200 non-null   int64 \n",
      " 15  NumCompaniesWorked            1200 non-null   int64 \n",
      " 16  OverTime                      1200 non-null   object\n",
      " 17  EmpLastSalaryHikePercent      1200 non-null   int64 \n",
      " 18  EmpRelationshipSatisfaction   1200 non-null   int64 \n",
      " 19  TotalWorkExperienceInYears    1200 non-null   int64 \n",
      " 20  TrainingTimesLastYear         1200 non-null   int64 \n",
      " 21  EmpWorkLifeBalance            1200 non-null   int64 \n",
      " 22  ExperienceYearsAtThisCompany  1200 non-null   int64 \n",
      " 23  ExperienceYearsInCurrentRole  1200 non-null   int64 \n",
      " 24  YearsSinceLastPromotion       1200 non-null   int64 \n",
      " 25  YearsWithCurrManager          1200 non-null   int64 \n",
      " 26  Attrition                     1200 non-null   object\n",
      " 27  PerformanceRating             1200 non-null   int64 \n",
      "dtypes: int64(20), object(8)\n",
      "memory usage: 262.6+ KB\n"
     ]
    }
   ],
   "source": [
    "df.info()"
   ]
  },
  {
   "cell_type": "markdown",
   "id": "c7fcef72",
   "metadata": {},
   "source": [
    "#### There is No Null Values Present in Dataset"
   ]
  },
  {
   "cell_type": "code",
   "execution_count": 11,
   "id": "5289f3c8",
   "metadata": {},
   "outputs": [
    {
     "data": {
      "text/html": [
       "<div>\n",
       "<style scoped>\n",
       "    .dataframe tbody tr th:only-of-type {\n",
       "        vertical-align: middle;\n",
       "    }\n",
       "\n",
       "    .dataframe tbody tr th {\n",
       "        vertical-align: top;\n",
       "    }\n",
       "\n",
       "    .dataframe thead th {\n",
       "        text-align: right;\n",
       "    }\n",
       "</style>\n",
       "<table border=\"1\" class=\"dataframe\">\n",
       "  <thead>\n",
       "    <tr style=\"text-align: right;\">\n",
       "      <th></th>\n",
       "      <th>EmpNumber</th>\n",
       "      <th>Age</th>\n",
       "      <th>DistanceFromHome</th>\n",
       "      <th>EmpEducationLevel</th>\n",
       "      <th>EmpEnvironmentSatisfaction</th>\n",
       "      <th>EmpHourlyRate</th>\n",
       "      <th>EmpJobInvolvement</th>\n",
       "      <th>EmpJobLevel</th>\n",
       "      <th>EmpJobSatisfaction</th>\n",
       "      <th>NumCompaniesWorked</th>\n",
       "      <th>EmpLastSalaryHikePercent</th>\n",
       "      <th>EmpRelationshipSatisfaction</th>\n",
       "      <th>TotalWorkExperienceInYears</th>\n",
       "      <th>TrainingTimesLastYear</th>\n",
       "      <th>EmpWorkLifeBalance</th>\n",
       "      <th>ExperienceYearsAtThisCompany</th>\n",
       "      <th>ExperienceYearsInCurrentRole</th>\n",
       "      <th>YearsSinceLastPromotion</th>\n",
       "      <th>YearsWithCurrManager</th>\n",
       "      <th>PerformanceRating</th>\n",
       "    </tr>\n",
       "  </thead>\n",
       "  <tbody>\n",
       "    <tr>\n",
       "      <th>count</th>\n",
       "      <td>1200.0</td>\n",
       "      <td>1200.000000</td>\n",
       "      <td>1200.000000</td>\n",
       "      <td>1200.00000</td>\n",
       "      <td>1200.000000</td>\n",
       "      <td>1200.000000</td>\n",
       "      <td>1200.000000</td>\n",
       "      <td>1200.000000</td>\n",
       "      <td>1200.000000</td>\n",
       "      <td>1200.000000</td>\n",
       "      <td>1200.000000</td>\n",
       "      <td>1200.000000</td>\n",
       "      <td>1200.000000</td>\n",
       "      <td>1200.000000</td>\n",
       "      <td>1200.000000</td>\n",
       "      <td>1200.000000</td>\n",
       "      <td>1200.000000</td>\n",
       "      <td>1200.000000</td>\n",
       "      <td>1200.000000</td>\n",
       "      <td>1200.000000</td>\n",
       "    </tr>\n",
       "    <tr>\n",
       "      <th>mean</th>\n",
       "      <td>1001000.0</td>\n",
       "      <td>36.918333</td>\n",
       "      <td>9.165833</td>\n",
       "      <td>2.89250</td>\n",
       "      <td>2.715833</td>\n",
       "      <td>65.981667</td>\n",
       "      <td>2.731667</td>\n",
       "      <td>2.067500</td>\n",
       "      <td>2.732500</td>\n",
       "      <td>2.665000</td>\n",
       "      <td>15.222500</td>\n",
       "      <td>2.725000</td>\n",
       "      <td>11.330000</td>\n",
       "      <td>2.785833</td>\n",
       "      <td>2.744167</td>\n",
       "      <td>7.077500</td>\n",
       "      <td>4.291667</td>\n",
       "      <td>2.194167</td>\n",
       "      <td>4.105000</td>\n",
       "      <td>2.948333</td>\n",
       "    </tr>\n",
       "    <tr>\n",
       "      <th>std</th>\n",
       "      <td>0.0</td>\n",
       "      <td>9.087289</td>\n",
       "      <td>8.176636</td>\n",
       "      <td>1.04412</td>\n",
       "      <td>1.090599</td>\n",
       "      <td>20.211302</td>\n",
       "      <td>0.707164</td>\n",
       "      <td>1.107836</td>\n",
       "      <td>1.100888</td>\n",
       "      <td>2.469384</td>\n",
       "      <td>3.625918</td>\n",
       "      <td>1.075642</td>\n",
       "      <td>7.797228</td>\n",
       "      <td>1.263446</td>\n",
       "      <td>0.699374</td>\n",
       "      <td>6.236899</td>\n",
       "      <td>3.613744</td>\n",
       "      <td>3.221560</td>\n",
       "      <td>3.541576</td>\n",
       "      <td>0.518866</td>\n",
       "    </tr>\n",
       "    <tr>\n",
       "      <th>min</th>\n",
       "      <td>1001000.0</td>\n",
       "      <td>18.000000</td>\n",
       "      <td>1.000000</td>\n",
       "      <td>1.00000</td>\n",
       "      <td>1.000000</td>\n",
       "      <td>30.000000</td>\n",
       "      <td>1.000000</td>\n",
       "      <td>1.000000</td>\n",
       "      <td>1.000000</td>\n",
       "      <td>0.000000</td>\n",
       "      <td>11.000000</td>\n",
       "      <td>1.000000</td>\n",
       "      <td>0.000000</td>\n",
       "      <td>0.000000</td>\n",
       "      <td>1.000000</td>\n",
       "      <td>0.000000</td>\n",
       "      <td>0.000000</td>\n",
       "      <td>0.000000</td>\n",
       "      <td>0.000000</td>\n",
       "      <td>2.000000</td>\n",
       "    </tr>\n",
       "    <tr>\n",
       "      <th>25%</th>\n",
       "      <td>1001000.0</td>\n",
       "      <td>30.000000</td>\n",
       "      <td>2.000000</td>\n",
       "      <td>2.00000</td>\n",
       "      <td>2.000000</td>\n",
       "      <td>48.000000</td>\n",
       "      <td>2.000000</td>\n",
       "      <td>1.000000</td>\n",
       "      <td>2.000000</td>\n",
       "      <td>1.000000</td>\n",
       "      <td>12.000000</td>\n",
       "      <td>2.000000</td>\n",
       "      <td>6.000000</td>\n",
       "      <td>2.000000</td>\n",
       "      <td>2.000000</td>\n",
       "      <td>3.000000</td>\n",
       "      <td>2.000000</td>\n",
       "      <td>0.000000</td>\n",
       "      <td>2.000000</td>\n",
       "      <td>3.000000</td>\n",
       "    </tr>\n",
       "    <tr>\n",
       "      <th>50%</th>\n",
       "      <td>1001000.0</td>\n",
       "      <td>36.000000</td>\n",
       "      <td>7.000000</td>\n",
       "      <td>3.00000</td>\n",
       "      <td>3.000000</td>\n",
       "      <td>66.000000</td>\n",
       "      <td>3.000000</td>\n",
       "      <td>2.000000</td>\n",
       "      <td>3.000000</td>\n",
       "      <td>2.000000</td>\n",
       "      <td>14.000000</td>\n",
       "      <td>3.000000</td>\n",
       "      <td>10.000000</td>\n",
       "      <td>3.000000</td>\n",
       "      <td>3.000000</td>\n",
       "      <td>5.000000</td>\n",
       "      <td>3.000000</td>\n",
       "      <td>1.000000</td>\n",
       "      <td>3.000000</td>\n",
       "      <td>3.000000</td>\n",
       "    </tr>\n",
       "    <tr>\n",
       "      <th>75%</th>\n",
       "      <td>1001000.0</td>\n",
       "      <td>43.000000</td>\n",
       "      <td>14.000000</td>\n",
       "      <td>4.00000</td>\n",
       "      <td>4.000000</td>\n",
       "      <td>83.000000</td>\n",
       "      <td>3.000000</td>\n",
       "      <td>3.000000</td>\n",
       "      <td>4.000000</td>\n",
       "      <td>4.000000</td>\n",
       "      <td>18.000000</td>\n",
       "      <td>4.000000</td>\n",
       "      <td>15.000000</td>\n",
       "      <td>3.000000</td>\n",
       "      <td>3.000000</td>\n",
       "      <td>10.000000</td>\n",
       "      <td>7.000000</td>\n",
       "      <td>3.000000</td>\n",
       "      <td>7.000000</td>\n",
       "      <td>3.000000</td>\n",
       "    </tr>\n",
       "    <tr>\n",
       "      <th>max</th>\n",
       "      <td>1001000.0</td>\n",
       "      <td>60.000000</td>\n",
       "      <td>29.000000</td>\n",
       "      <td>5.00000</td>\n",
       "      <td>4.000000</td>\n",
       "      <td>100.000000</td>\n",
       "      <td>4.000000</td>\n",
       "      <td>5.000000</td>\n",
       "      <td>4.000000</td>\n",
       "      <td>9.000000</td>\n",
       "      <td>25.000000</td>\n",
       "      <td>4.000000</td>\n",
       "      <td>40.000000</td>\n",
       "      <td>6.000000</td>\n",
       "      <td>4.000000</td>\n",
       "      <td>40.000000</td>\n",
       "      <td>18.000000</td>\n",
       "      <td>15.000000</td>\n",
       "      <td>17.000000</td>\n",
       "      <td>4.000000</td>\n",
       "    </tr>\n",
       "  </tbody>\n",
       "</table>\n",
       "</div>"
      ],
      "text/plain": [
       "       EmpNumber          Age  DistanceFromHome  EmpEducationLevel  \\\n",
       "count     1200.0  1200.000000       1200.000000         1200.00000   \n",
       "mean   1001000.0    36.918333          9.165833            2.89250   \n",
       "std          0.0     9.087289          8.176636            1.04412   \n",
       "min    1001000.0    18.000000          1.000000            1.00000   \n",
       "25%    1001000.0    30.000000          2.000000            2.00000   \n",
       "50%    1001000.0    36.000000          7.000000            3.00000   \n",
       "75%    1001000.0    43.000000         14.000000            4.00000   \n",
       "max    1001000.0    60.000000         29.000000            5.00000   \n",
       "\n",
       "       EmpEnvironmentSatisfaction  EmpHourlyRate  EmpJobInvolvement  \\\n",
       "count                 1200.000000    1200.000000        1200.000000   \n",
       "mean                     2.715833      65.981667           2.731667   \n",
       "std                      1.090599      20.211302           0.707164   \n",
       "min                      1.000000      30.000000           1.000000   \n",
       "25%                      2.000000      48.000000           2.000000   \n",
       "50%                      3.000000      66.000000           3.000000   \n",
       "75%                      4.000000      83.000000           3.000000   \n",
       "max                      4.000000     100.000000           4.000000   \n",
       "\n",
       "       EmpJobLevel  EmpJobSatisfaction  NumCompaniesWorked  \\\n",
       "count  1200.000000         1200.000000         1200.000000   \n",
       "mean      2.067500            2.732500            2.665000   \n",
       "std       1.107836            1.100888            2.469384   \n",
       "min       1.000000            1.000000            0.000000   \n",
       "25%       1.000000            2.000000            1.000000   \n",
       "50%       2.000000            3.000000            2.000000   \n",
       "75%       3.000000            4.000000            4.000000   \n",
       "max       5.000000            4.000000            9.000000   \n",
       "\n",
       "       EmpLastSalaryHikePercent  EmpRelationshipSatisfaction  \\\n",
       "count               1200.000000                  1200.000000   \n",
       "mean                  15.222500                     2.725000   \n",
       "std                    3.625918                     1.075642   \n",
       "min                   11.000000                     1.000000   \n",
       "25%                   12.000000                     2.000000   \n",
       "50%                   14.000000                     3.000000   \n",
       "75%                   18.000000                     4.000000   \n",
       "max                   25.000000                     4.000000   \n",
       "\n",
       "       TotalWorkExperienceInYears  TrainingTimesLastYear  EmpWorkLifeBalance  \\\n",
       "count                 1200.000000            1200.000000         1200.000000   \n",
       "mean                    11.330000               2.785833            2.744167   \n",
       "std                      7.797228               1.263446            0.699374   \n",
       "min                      0.000000               0.000000            1.000000   \n",
       "25%                      6.000000               2.000000            2.000000   \n",
       "50%                     10.000000               3.000000            3.000000   \n",
       "75%                     15.000000               3.000000            3.000000   \n",
       "max                     40.000000               6.000000            4.000000   \n",
       "\n",
       "       ExperienceYearsAtThisCompany  ExperienceYearsInCurrentRole  \\\n",
       "count                   1200.000000                   1200.000000   \n",
       "mean                       7.077500                      4.291667   \n",
       "std                        6.236899                      3.613744   \n",
       "min                        0.000000                      0.000000   \n",
       "25%                        3.000000                      2.000000   \n",
       "50%                        5.000000                      3.000000   \n",
       "75%                       10.000000                      7.000000   \n",
       "max                       40.000000                     18.000000   \n",
       "\n",
       "       YearsSinceLastPromotion  YearsWithCurrManager  PerformanceRating  \n",
       "count              1200.000000           1200.000000        1200.000000  \n",
       "mean                  2.194167              4.105000           2.948333  \n",
       "std                   3.221560              3.541576           0.518866  \n",
       "min                   0.000000              0.000000           2.000000  \n",
       "25%                   0.000000              2.000000           3.000000  \n",
       "50%                   1.000000              3.000000           3.000000  \n",
       "75%                   3.000000              7.000000           3.000000  \n",
       "max                  15.000000             17.000000           4.000000  "
      ]
     },
     "execution_count": 11,
     "metadata": {},
     "output_type": "execute_result"
    }
   ],
   "source": [
    "df.describe()"
   ]
  },
  {
   "cell_type": "markdown",
   "id": "59b45f85",
   "metadata": {},
   "source": [
    "### There is no Missing values in Dataset and there is no outliers present in dataset.\n",
    "### Target Variable is PerformanceRating i.e(Dependent variable)"
   ]
  },
  {
   "cell_type": "markdown",
   "id": "4e19baff",
   "metadata": {},
   "source": [
    "# 2.\tAnalysis of Department wise performance as asked.\n"
   ]
  },
  {
   "cell_type": "code",
   "execution_count": 12,
   "id": "385bea57",
   "metadata": {},
   "outputs": [
    {
     "data": {
      "text/plain": [
       "Sales                     373\n",
       "Development               361\n",
       "Research & Development    343\n",
       "Human Resources            54\n",
       "Finance                    49\n",
       "Data Science               20\n",
       "Name: EmpDepartment, dtype: int64"
      ]
     },
     "execution_count": 12,
     "metadata": {},
     "output_type": "execute_result"
    },
    {
     "data": {
      "image/png": "[encoded data removed]",
      "text/plain": [
       "<Figure size 1008x288 with 1 Axes>"
      ]
     },
     "metadata": {
      "needs_background": "light"
     },
     "output_type": "display_data"
    }
   ],
   "source": [
    "plt.figure(figsize=(14, 4))\n",
    "sns.countplot(x=df['EmpDepartment'],color=\"aqua\")\n",
    "df[\"EmpDepartment\"].value_counts()"
   ]
  },
  {
   "cell_type": "code",
   "execution_count": 13,
   "id": "66b47072",
   "metadata": {},
   "outputs": [
    {
     "data": {
      "text/plain": [
       "'Data Science'"
      ]
     },
     "execution_count": 13,
     "metadata": {},
     "output_type": "execute_result"
    }
   ],
   "source": [
    "df['EmpDepartment'].min()"
   ]
  },
  {
   "cell_type": "code",
   "execution_count": 15,
   "id": "86cb8a88",
   "metadata": {},
   "outputs": [
    {
     "data": {
      "text/plain": [
       "'Sales'"
      ]
     },
     "execution_count": 15,
     "metadata": {},
     "output_type": "execute_result"
    }
   ],
   "source": [
    "df['EmpDepartment'].max()"
   ]
  },
  {
   "cell_type": "markdown",
   "id": "024c4ee2",
   "metadata": {},
   "source": [
    "### Sales, R&D and Development department's are performing well as compared to others"
   ]
  },
  {
   "cell_type": "markdown",
   "id": "d4ed10dc",
   "metadata": {},
   "source": [
    "# 3.\tLabel Encoding the ordinal columns."
   ]
  },
  {
   "cell_type": "code",
   "execution_count": 17,
   "id": "893146a1",
   "metadata": {},
   "outputs": [],
   "source": [
    "from sklearn import preprocessing\n",
    "label_encoder = preprocessing.LabelEncoder()"
   ]
  },
  {
   "cell_type": "code",
   "execution_count": 18,
   "id": "0d074e8f",
   "metadata": {},
   "outputs": [
    {
     "data": {
      "text/html": [
       "<div>\n",
       "<style scoped>\n",
       "    .dataframe tbody tr th:only-of-type {\n",
       "        vertical-align: middle;\n",
       "    }\n",
       "\n",
       "    .dataframe tbody tr th {\n",
       "        vertical-align: top;\n",
       "    }\n",
       "\n",
       "    .dataframe thead th {\n",
       "        text-align: right;\n",
       "    }\n",
       "</style>\n",
       "<table border=\"1\" class=\"dataframe\">\n",
       "  <thead>\n",
       "    <tr style=\"text-align: right;\">\n",
       "      <th></th>\n",
       "      <th>EmpNumber</th>\n",
       "      <th>Age</th>\n",
       "      <th>Gender</th>\n",
       "      <th>EducationBackground</th>\n",
       "      <th>MaritalStatus</th>\n",
       "      <th>EmpDepartment</th>\n",
       "      <th>EmpJobRole</th>\n",
       "      <th>BusinessTravelFrequency</th>\n",
       "      <th>DistanceFromHome</th>\n",
       "      <th>EmpEducationLevel</th>\n",
       "      <th>...</th>\n",
       "      <th>EmpRelationshipSatisfaction</th>\n",
       "      <th>TotalWorkExperienceInYears</th>\n",
       "      <th>TrainingTimesLastYear</th>\n",
       "      <th>EmpWorkLifeBalance</th>\n",
       "      <th>ExperienceYearsAtThisCompany</th>\n",
       "      <th>ExperienceYearsInCurrentRole</th>\n",
       "      <th>YearsSinceLastPromotion</th>\n",
       "      <th>YearsWithCurrManager</th>\n",
       "      <th>Attrition</th>\n",
       "      <th>PerformanceRating</th>\n",
       "    </tr>\n",
       "  </thead>\n",
       "  <tbody>\n",
       "    <tr>\n",
       "      <th>0</th>\n",
       "      <td>1001000</td>\n",
       "      <td>32</td>\n",
       "      <td>1</td>\n",
       "      <td>2</td>\n",
       "      <td>2</td>\n",
       "      <td>5</td>\n",
       "      <td>13</td>\n",
       "      <td>2</td>\n",
       "      <td>10</td>\n",
       "      <td>3</td>\n",
       "      <td>...</td>\n",
       "      <td>4</td>\n",
       "      <td>10</td>\n",
       "      <td>2</td>\n",
       "      <td>2</td>\n",
       "      <td>10</td>\n",
       "      <td>7</td>\n",
       "      <td>0</td>\n",
       "      <td>8</td>\n",
       "      <td>0</td>\n",
       "      <td>3</td>\n",
       "    </tr>\n",
       "    <tr>\n",
       "      <th>1</th>\n",
       "      <td>1001000</td>\n",
       "      <td>47</td>\n",
       "      <td>1</td>\n",
       "      <td>2</td>\n",
       "      <td>2</td>\n",
       "      <td>5</td>\n",
       "      <td>13</td>\n",
       "      <td>2</td>\n",
       "      <td>14</td>\n",
       "      <td>4</td>\n",
       "      <td>...</td>\n",
       "      <td>4</td>\n",
       "      <td>20</td>\n",
       "      <td>2</td>\n",
       "      <td>3</td>\n",
       "      <td>7</td>\n",
       "      <td>7</td>\n",
       "      <td>1</td>\n",
       "      <td>7</td>\n",
       "      <td>0</td>\n",
       "      <td>3</td>\n",
       "    </tr>\n",
       "    <tr>\n",
       "      <th>2</th>\n",
       "      <td>1001000</td>\n",
       "      <td>40</td>\n",
       "      <td>1</td>\n",
       "      <td>1</td>\n",
       "      <td>1</td>\n",
       "      <td>5</td>\n",
       "      <td>13</td>\n",
       "      <td>1</td>\n",
       "      <td>5</td>\n",
       "      <td>4</td>\n",
       "      <td>...</td>\n",
       "      <td>3</td>\n",
       "      <td>20</td>\n",
       "      <td>2</td>\n",
       "      <td>3</td>\n",
       "      <td>18</td>\n",
       "      <td>13</td>\n",
       "      <td>1</td>\n",
       "      <td>12</td>\n",
       "      <td>0</td>\n",
       "      <td>4</td>\n",
       "    </tr>\n",
       "    <tr>\n",
       "      <th>3</th>\n",
       "      <td>1001000</td>\n",
       "      <td>41</td>\n",
       "      <td>1</td>\n",
       "      <td>0</td>\n",
       "      <td>0</td>\n",
       "      <td>3</td>\n",
       "      <td>8</td>\n",
       "      <td>2</td>\n",
       "      <td>10</td>\n",
       "      <td>4</td>\n",
       "      <td>...</td>\n",
       "      <td>2</td>\n",
       "      <td>23</td>\n",
       "      <td>2</td>\n",
       "      <td>2</td>\n",
       "      <td>21</td>\n",
       "      <td>6</td>\n",
       "      <td>12</td>\n",
       "      <td>6</td>\n",
       "      <td>0</td>\n",
       "      <td>3</td>\n",
       "    </tr>\n",
       "    <tr>\n",
       "      <th>4</th>\n",
       "      <td>1001000</td>\n",
       "      <td>60</td>\n",
       "      <td>1</td>\n",
       "      <td>2</td>\n",
       "      <td>2</td>\n",
       "      <td>5</td>\n",
       "      <td>13</td>\n",
       "      <td>2</td>\n",
       "      <td>16</td>\n",
       "      <td>4</td>\n",
       "      <td>...</td>\n",
       "      <td>4</td>\n",
       "      <td>10</td>\n",
       "      <td>1</td>\n",
       "      <td>3</td>\n",
       "      <td>2</td>\n",
       "      <td>2</td>\n",
       "      <td>2</td>\n",
       "      <td>2</td>\n",
       "      <td>0</td>\n",
       "      <td>3</td>\n",
       "    </tr>\n",
       "    <tr>\n",
       "      <th>...</th>\n",
       "      <td>...</td>\n",
       "      <td>...</td>\n",
       "      <td>...</td>\n",
       "      <td>...</td>\n",
       "      <td>...</td>\n",
       "      <td>...</td>\n",
       "      <td>...</td>\n",
       "      <td>...</td>\n",
       "      <td>...</td>\n",
       "      <td>...</td>\n",
       "      <td>...</td>\n",
       "      <td>...</td>\n",
       "      <td>...</td>\n",
       "      <td>...</td>\n",
       "      <td>...</td>\n",
       "      <td>...</td>\n",
       "      <td>...</td>\n",
       "      <td>...</td>\n",
       "      <td>...</td>\n",
       "      <td>...</td>\n",
       "      <td>...</td>\n",
       "    </tr>\n",
       "    <tr>\n",
       "      <th>1195</th>\n",
       "      <td>1001000</td>\n",
       "      <td>27</td>\n",
       "      <td>0</td>\n",
       "      <td>3</td>\n",
       "      <td>0</td>\n",
       "      <td>5</td>\n",
       "      <td>13</td>\n",
       "      <td>1</td>\n",
       "      <td>3</td>\n",
       "      <td>1</td>\n",
       "      <td>...</td>\n",
       "      <td>2</td>\n",
       "      <td>6</td>\n",
       "      <td>3</td>\n",
       "      <td>3</td>\n",
       "      <td>6</td>\n",
       "      <td>5</td>\n",
       "      <td>0</td>\n",
       "      <td>4</td>\n",
       "      <td>0</td>\n",
       "      <td>4</td>\n",
       "    </tr>\n",
       "    <tr>\n",
       "      <th>1196</th>\n",
       "      <td>1001000</td>\n",
       "      <td>37</td>\n",
       "      <td>1</td>\n",
       "      <td>1</td>\n",
       "      <td>2</td>\n",
       "      <td>1</td>\n",
       "      <td>15</td>\n",
       "      <td>2</td>\n",
       "      <td>10</td>\n",
       "      <td>2</td>\n",
       "      <td>...</td>\n",
       "      <td>1</td>\n",
       "      <td>4</td>\n",
       "      <td>2</td>\n",
       "      <td>3</td>\n",
       "      <td>1</td>\n",
       "      <td>0</td>\n",
       "      <td>0</td>\n",
       "      <td>0</td>\n",
       "      <td>0</td>\n",
       "      <td>3</td>\n",
       "    </tr>\n",
       "    <tr>\n",
       "      <th>1197</th>\n",
       "      <td>1001000</td>\n",
       "      <td>50</td>\n",
       "      <td>1</td>\n",
       "      <td>3</td>\n",
       "      <td>1</td>\n",
       "      <td>1</td>\n",
       "      <td>15</td>\n",
       "      <td>2</td>\n",
       "      <td>28</td>\n",
       "      <td>1</td>\n",
       "      <td>...</td>\n",
       "      <td>3</td>\n",
       "      <td>20</td>\n",
       "      <td>3</td>\n",
       "      <td>3</td>\n",
       "      <td>20</td>\n",
       "      <td>8</td>\n",
       "      <td>3</td>\n",
       "      <td>8</td>\n",
       "      <td>0</td>\n",
       "      <td>3</td>\n",
       "    </tr>\n",
       "    <tr>\n",
       "      <th>1198</th>\n",
       "      <td>1001000</td>\n",
       "      <td>34</td>\n",
       "      <td>0</td>\n",
       "      <td>3</td>\n",
       "      <td>2</td>\n",
       "      <td>0</td>\n",
       "      <td>1</td>\n",
       "      <td>2</td>\n",
       "      <td>9</td>\n",
       "      <td>3</td>\n",
       "      <td>...</td>\n",
       "      <td>2</td>\n",
       "      <td>9</td>\n",
       "      <td>3</td>\n",
       "      <td>4</td>\n",
       "      <td>8</td>\n",
       "      <td>7</td>\n",
       "      <td>7</td>\n",
       "      <td>7</td>\n",
       "      <td>0</td>\n",
       "      <td>3</td>\n",
       "    </tr>\n",
       "    <tr>\n",
       "      <th>1199</th>\n",
       "      <td>1001000</td>\n",
       "      <td>24</td>\n",
       "      <td>0</td>\n",
       "      <td>1</td>\n",
       "      <td>2</td>\n",
       "      <td>5</td>\n",
       "      <td>13</td>\n",
       "      <td>2</td>\n",
       "      <td>3</td>\n",
       "      <td>2</td>\n",
       "      <td>...</td>\n",
       "      <td>1</td>\n",
       "      <td>4</td>\n",
       "      <td>3</td>\n",
       "      <td>3</td>\n",
       "      <td>2</td>\n",
       "      <td>2</td>\n",
       "      <td>2</td>\n",
       "      <td>0</td>\n",
       "      <td>1</td>\n",
       "      <td>2</td>\n",
       "    </tr>\n",
       "  </tbody>\n",
       "</table>\n",
       "<p>1200 rows × 28 columns</p>\n",
       "</div>"
      ],
      "text/plain": [
       "      EmpNumber  Age  Gender  EducationBackground  MaritalStatus  \\\n",
       "0       1001000   32       1                    2              2   \n",
       "1       1001000   47       1                    2              2   \n",
       "2       1001000   40       1                    1              1   \n",
       "3       1001000   41       1                    0              0   \n",
       "4       1001000   60       1                    2              2   \n",
       "...         ...  ...     ...                  ...            ...   \n",
       "1195    1001000   27       0                    3              0   \n",
       "1196    1001000   37       1                    1              2   \n",
       "1197    1001000   50       1                    3              1   \n",
       "1198    1001000   34       0                    3              2   \n",
       "1199    1001000   24       0                    1              2   \n",
       "\n",
       "      EmpDepartment  EmpJobRole  BusinessTravelFrequency  DistanceFromHome  \\\n",
       "0                 5          13                        2                10   \n",
       "1                 5          13                        2                14   \n",
       "2                 5          13                        1                 5   \n",
       "3                 3           8                        2                10   \n",
       "4                 5          13                        2                16   \n",
       "...             ...         ...                      ...               ...   \n",
       "1195              5          13                        1                 3   \n",
       "1196              1          15                        2                10   \n",
       "1197              1          15                        2                28   \n",
       "1198              0           1                        2                 9   \n",
       "1199              5          13                        2                 3   \n",
       "\n",
       "      EmpEducationLevel  ...  EmpRelationshipSatisfaction  \\\n",
       "0                     3  ...                            4   \n",
       "1                     4  ...                            4   \n",
       "2                     4  ...                            3   \n",
       "3                     4  ...                            2   \n",
       "4                     4  ...                            4   \n",
       "...                 ...  ...                          ...   \n",
       "1195                  1  ...                            2   \n",
       "1196                  2  ...                            1   \n",
       "1197                  1  ...                            3   \n",
       "1198                  3  ...                            2   \n",
       "1199                  2  ...                            1   \n",
       "\n",
       "      TotalWorkExperienceInYears  TrainingTimesLastYear  EmpWorkLifeBalance  \\\n",
       "0                             10                      2                   2   \n",
       "1                             20                      2                   3   \n",
       "2                             20                      2                   3   \n",
       "3                             23                      2                   2   \n",
       "4                             10                      1                   3   \n",
       "...                          ...                    ...                 ...   \n",
       "1195                           6                      3                   3   \n",
       "1196                           4                      2                   3   \n",
       "1197                          20                      3                   3   \n",
       "1198                           9                      3                   4   \n",
       "1199                           4                      3                   3   \n",
       "\n",
       "      ExperienceYearsAtThisCompany  ExperienceYearsInCurrentRole  \\\n",
       "0                               10                             7   \n",
       "1                                7                             7   \n",
       "2                               18                            13   \n",
       "3                               21                             6   \n",
       "4                                2                             2   \n",
       "...                            ...                           ...   \n",
       "1195                             6                             5   \n",
       "1196                             1                             0   \n",
       "1197                            20                             8   \n",
       "1198                             8                             7   \n",
       "1199                             2                             2   \n",
       "\n",
       "      YearsSinceLastPromotion  YearsWithCurrManager  Attrition  \\\n",
       "0                           0                     8          0   \n",
       "1                           1                     7          0   \n",
       "2                           1                    12          0   \n",
       "3                          12                     6          0   \n",
       "4                           2                     2          0   \n",
       "...                       ...                   ...        ...   \n",
       "1195                        0                     4          0   \n",
       "1196                        0                     0          0   \n",
       "1197                        3                     8          0   \n",
       "1198                        7                     7          0   \n",
       "1199                        2                     0          1   \n",
       "\n",
       "      PerformanceRating  \n",
       "0                     3  \n",
       "1                     3  \n",
       "2                     4  \n",
       "3                     3  \n",
       "4                     3  \n",
       "...                 ...  \n",
       "1195                  4  \n",
       "1196                  3  \n",
       "1197                  3  \n",
       "1198                  3  \n",
       "1199                  2  \n",
       "\n",
       "[1200 rows x 28 columns]"
      ]
     },
     "execution_count": 18,
     "metadata": {},
     "output_type": "execute_result"
    }
   ],
   "source": [
    "df['Gender']= label_encoder.fit_transform(df['Gender'])\n",
    "df['EducationBackground']= label_encoder.fit_transform(df['EducationBackground'])\n",
    "df['MaritalStatus']= label_encoder.fit_transform(df['MaritalStatus'])\n",
    "df['EmpDepartment']= label_encoder.fit_transform(df['EmpDepartment'])\n",
    "df['EmpJobRole']= label_encoder.fit_transform(df['EmpJobRole'])\n",
    "df['BusinessTravelFrequency']= label_encoder.fit_transform(df['BusinessTravelFrequency'])\n",
    "df['OverTime']= label_encoder.fit_transform(df['OverTime'])\n",
    "df['Attrition']= label_encoder.fit_transform(df['Attrition'])\n",
    "df"
   ]
  },
  {
   "cell_type": "markdown",
   "id": "ef85e39a",
   "metadata": {},
   "source": [
    "# 4.\tCalculate correlation coefficient to find out the relationship between variables and then select the important features for analysis.\n"
   ]
  },
  {
   "cell_type": "code",
   "execution_count": 19,
   "id": "8ef79726",
   "metadata": {},
   "outputs": [
    {
     "data": {
      "text/plain": [
       "Text(0.5, 1.0, 'Spearman Correlation')"
      ]
     },
     "execution_count": 19,
     "metadata": {},
     "output_type": "execute_result"
    },
    {
     "data": {
      "image/png": "[encoded data removed]",
      "text/plain": [
       "<Figure size 1440x1008 with 2 Axes>"
      ]
     },
     "metadata": {
      "needs_background": "light"
     },
     "output_type": "display_data"
    }
   ],
   "source": [
    "def display_correlation(df):\n",
    "    r = df.corr(method=\"spearman\")\n",
    "plt.figure(figsize=(20,14))\n",
    "heatmap = sns.heatmap(df.corr(), vmin=-1, vmax=1, annot=True,cmap=\"YlGnBu\")\n",
    "plt.title(\"Spearman Correlation\")"
   ]
  },
  {
   "cell_type": "markdown",
   "id": "ff9bbdbb",
   "metadata": {},
   "source": [
    "### TotalWorkExperienceInYears, EmpjobLevel, EmpJobRole & EmpEnvironmentSatisfication are corelate with PerformanceRating"
   ]
  },
  {
   "cell_type": "markdown",
   "id": "e09c6092",
   "metadata": {},
   "source": [
    "# 5.\tStandardizing the data and splitting it into test and train."
   ]
  },
  {
   "cell_type": "code",
   "execution_count": 20,
   "id": "e7e8425b",
   "metadata": {},
   "outputs": [],
   "source": [
    "from sklearn.model_selection import train_test_split"
   ]
  },
  {
   "cell_type": "code",
   "execution_count": 21,
   "id": "c9c8d1c3",
   "metadata": {},
   "outputs": [],
   "source": [
    "X = df.loc[:,df.columns!=\"PerformanceRating\"]"
   ]
  },
  {
   "cell_type": "code",
   "execution_count": 22,
   "id": "967f452f",
   "metadata": {},
   "outputs": [
    {
     "data": {
      "text/html": [
       "<div>\n",
       "<style scoped>\n",
       "    .dataframe tbody tr th:only-of-type {\n",
       "        vertical-align: middle;\n",
       "    }\n",
       "\n",
       "    .dataframe tbody tr th {\n",
       "        vertical-align: top;\n",
       "    }\n",
       "\n",
       "    .dataframe thead th {\n",
       "        text-align: right;\n",
       "    }\n",
       "</style>\n",
       "<table border=\"1\" class=\"dataframe\">\n",
       "  <thead>\n",
       "    <tr style=\"text-align: right;\">\n",
       "      <th></th>\n",
       "      <th>EmpNumber</th>\n",
       "      <th>Age</th>\n",
       "      <th>Gender</th>\n",
       "      <th>EducationBackground</th>\n",
       "      <th>MaritalStatus</th>\n",
       "      <th>EmpDepartment</th>\n",
       "      <th>EmpJobRole</th>\n",
       "      <th>BusinessTravelFrequency</th>\n",
       "      <th>DistanceFromHome</th>\n",
       "      <th>EmpEducationLevel</th>\n",
       "      <th>...</th>\n",
       "      <th>EmpLastSalaryHikePercent</th>\n",
       "      <th>EmpRelationshipSatisfaction</th>\n",
       "      <th>TotalWorkExperienceInYears</th>\n",
       "      <th>TrainingTimesLastYear</th>\n",
       "      <th>EmpWorkLifeBalance</th>\n",
       "      <th>ExperienceYearsAtThisCompany</th>\n",
       "      <th>ExperienceYearsInCurrentRole</th>\n",
       "      <th>YearsSinceLastPromotion</th>\n",
       "      <th>YearsWithCurrManager</th>\n",
       "      <th>Attrition</th>\n",
       "    </tr>\n",
       "  </thead>\n",
       "  <tbody>\n",
       "    <tr>\n",
       "      <th>0</th>\n",
       "      <td>1001000</td>\n",
       "      <td>32</td>\n",
       "      <td>1</td>\n",
       "      <td>2</td>\n",
       "      <td>2</td>\n",
       "      <td>5</td>\n",
       "      <td>13</td>\n",
       "      <td>2</td>\n",
       "      <td>10</td>\n",
       "      <td>3</td>\n",
       "      <td>...</td>\n",
       "      <td>12</td>\n",
       "      <td>4</td>\n",
       "      <td>10</td>\n",
       "      <td>2</td>\n",
       "      <td>2</td>\n",
       "      <td>10</td>\n",
       "      <td>7</td>\n",
       "      <td>0</td>\n",
       "      <td>8</td>\n",
       "      <td>0</td>\n",
       "    </tr>\n",
       "    <tr>\n",
       "      <th>1</th>\n",
       "      <td>1001000</td>\n",
       "      <td>47</td>\n",
       "      <td>1</td>\n",
       "      <td>2</td>\n",
       "      <td>2</td>\n",
       "      <td>5</td>\n",
       "      <td>13</td>\n",
       "      <td>2</td>\n",
       "      <td>14</td>\n",
       "      <td>4</td>\n",
       "      <td>...</td>\n",
       "      <td>12</td>\n",
       "      <td>4</td>\n",
       "      <td>20</td>\n",
       "      <td>2</td>\n",
       "      <td>3</td>\n",
       "      <td>7</td>\n",
       "      <td>7</td>\n",
       "      <td>1</td>\n",
       "      <td>7</td>\n",
       "      <td>0</td>\n",
       "    </tr>\n",
       "    <tr>\n",
       "      <th>2</th>\n",
       "      <td>1001000</td>\n",
       "      <td>40</td>\n",
       "      <td>1</td>\n",
       "      <td>1</td>\n",
       "      <td>1</td>\n",
       "      <td>5</td>\n",
       "      <td>13</td>\n",
       "      <td>1</td>\n",
       "      <td>5</td>\n",
       "      <td>4</td>\n",
       "      <td>...</td>\n",
       "      <td>21</td>\n",
       "      <td>3</td>\n",
       "      <td>20</td>\n",
       "      <td>2</td>\n",
       "      <td>3</td>\n",
       "      <td>18</td>\n",
       "      <td>13</td>\n",
       "      <td>1</td>\n",
       "      <td>12</td>\n",
       "      <td>0</td>\n",
       "    </tr>\n",
       "    <tr>\n",
       "      <th>3</th>\n",
       "      <td>1001000</td>\n",
       "      <td>41</td>\n",
       "      <td>1</td>\n",
       "      <td>0</td>\n",
       "      <td>0</td>\n",
       "      <td>3</td>\n",
       "      <td>8</td>\n",
       "      <td>2</td>\n",
       "      <td>10</td>\n",
       "      <td>4</td>\n",
       "      <td>...</td>\n",
       "      <td>15</td>\n",
       "      <td>2</td>\n",
       "      <td>23</td>\n",
       "      <td>2</td>\n",
       "      <td>2</td>\n",
       "      <td>21</td>\n",
       "      <td>6</td>\n",
       "      <td>12</td>\n",
       "      <td>6</td>\n",
       "      <td>0</td>\n",
       "    </tr>\n",
       "    <tr>\n",
       "      <th>4</th>\n",
       "      <td>1001000</td>\n",
       "      <td>60</td>\n",
       "      <td>1</td>\n",
       "      <td>2</td>\n",
       "      <td>2</td>\n",
       "      <td>5</td>\n",
       "      <td>13</td>\n",
       "      <td>2</td>\n",
       "      <td>16</td>\n",
       "      <td>4</td>\n",
       "      <td>...</td>\n",
       "      <td>14</td>\n",
       "      <td>4</td>\n",
       "      <td>10</td>\n",
       "      <td>1</td>\n",
       "      <td>3</td>\n",
       "      <td>2</td>\n",
       "      <td>2</td>\n",
       "      <td>2</td>\n",
       "      <td>2</td>\n",
       "      <td>0</td>\n",
       "    </tr>\n",
       "  </tbody>\n",
       "</table>\n",
       "<p>5 rows × 27 columns</p>\n",
       "</div>"
      ],
      "text/plain": [
       "   EmpNumber  Age  Gender  EducationBackground  MaritalStatus  EmpDepartment  \\\n",
       "0    1001000   32       1                    2              2              5   \n",
       "1    1001000   47       1                    2              2              5   \n",
       "2    1001000   40       1                    1              1              5   \n",
       "3    1001000   41       1                    0              0              3   \n",
       "4    1001000   60       1                    2              2              5   \n",
       "\n",
       "   EmpJobRole  BusinessTravelFrequency  DistanceFromHome  EmpEducationLevel  \\\n",
       "0          13                        2                10                  3   \n",
       "1          13                        2                14                  4   \n",
       "2          13                        1                 5                  4   \n",
       "3           8                        2                10                  4   \n",
       "4          13                        2                16                  4   \n",
       "\n",
       "   ...  EmpLastSalaryHikePercent  EmpRelationshipSatisfaction  \\\n",
       "0  ...                        12                            4   \n",
       "1  ...                        12                            4   \n",
       "2  ...                        21                            3   \n",
       "3  ...                        15                            2   \n",
       "4  ...                        14                            4   \n",
       "\n",
       "   TotalWorkExperienceInYears  TrainingTimesLastYear  EmpWorkLifeBalance  \\\n",
       "0                          10                      2                   2   \n",
       "1                          20                      2                   3   \n",
       "2                          20                      2                   3   \n",
       "3                          23                      2                   2   \n",
       "4                          10                      1                   3   \n",
       "\n",
       "   ExperienceYearsAtThisCompany  ExperienceYearsInCurrentRole  \\\n",
       "0                            10                             7   \n",
       "1                             7                             7   \n",
       "2                            18                            13   \n",
       "3                            21                             6   \n",
       "4                             2                             2   \n",
       "\n",
       "   YearsSinceLastPromotion  YearsWithCurrManager  Attrition  \n",
       "0                        0                     8          0  \n",
       "1                        1                     7          0  \n",
       "2                        1                    12          0  \n",
       "3                       12                     6          0  \n",
       "4                        2                     2          0  \n",
       "\n",
       "[5 rows x 27 columns]"
      ]
     },
     "execution_count": 22,
     "metadata": {},
     "output_type": "execute_result"
    }
   ],
   "source": [
    "X.head()"
   ]
  },
  {
   "cell_type": "code",
   "execution_count": 23,
   "id": "8601b4f5",
   "metadata": {},
   "outputs": [],
   "source": [
    "y = df[\"PerformanceRating\"]"
   ]
  },
  {
   "cell_type": "code",
   "execution_count": 24,
   "id": "d27378b4",
   "metadata": {},
   "outputs": [
    {
     "data": {
      "text/plain": [
       "0    3\n",
       "1    3\n",
       "2    4\n",
       "3    3\n",
       "4    3\n",
       "Name: PerformanceRating, dtype: int64"
      ]
     },
     "execution_count": 24,
     "metadata": {},
     "output_type": "execute_result"
    }
   ],
   "source": [
    "y.head()"
   ]
  },
  {
   "cell_type": "markdown",
   "id": "5d7fe8b3",
   "metadata": {},
   "source": [
    "Training set is used to train the model and test set is used to test its performance"
   ]
  },
  {
   "cell_type": "code",
   "execution_count": 25,
   "id": "12c53f62",
   "metadata": {},
   "outputs": [],
   "source": [
    "X_train, X_test, y_train, y_test = train_test_split(X, y,test_size = 0.2, random_state=0)"
   ]
  },
  {
   "cell_type": "code",
   "execution_count": 26,
   "id": "0d9b1f29",
   "metadata": {},
   "outputs": [
    {
     "name": "stdout",
     "output_type": "stream",
     "text": [
      "(960, 27) (240, 27) (960,) (240,)\n"
     ]
    }
   ],
   "source": [
    "print(X_train.shape, X_test.shape, y_train.shape, y_test.shape)"
   ]
  },
  {
   "cell_type": "markdown",
   "id": "567e55d2",
   "metadata": {},
   "source": [
    "# 6.\tTraining the data using algorithms like Logistic Regression, Random Forest, K-Nearest Neighbour, XGBoost Classifier and checking the accuracy to find out which algorithm is the best."
   ]
  },
  {
   "cell_type": "markdown",
   "id": "1b607d73",
   "metadata": {},
   "source": [
    "# Logistic Regression :-"
   ]
  },
  {
   "cell_type": "code",
   "execution_count": 27,
   "id": "528913b1",
   "metadata": {},
   "outputs": [],
   "source": [
    "from sklearn.linear_model import LogisticRegression"
   ]
  },
  {
   "cell_type": "code",
   "execution_count": 29,
   "id": "15936358",
   "metadata": {},
   "outputs": [],
   "source": [
    "clf_lrs = LogisticRegression()"
   ]
  },
  {
   "cell_type": "code",
   "execution_count": 30,
   "id": "2211e1ea",
   "metadata": {},
   "outputs": [
    {
     "data": {
      "text/plain": [
       "LogisticRegression()"
      ]
     },
     "execution_count": 30,
     "metadata": {},
     "output_type": "execute_result"
    }
   ],
   "source": [
    "clf_lr = LogisticRegression()\n",
    "clf_lr.fit(X,y)"
   ]
  },
  {
   "cell_type": "code",
   "execution_count": 33,
   "id": "b98f78ca",
   "metadata": {},
   "outputs": [],
   "source": [
    "y_train_pred = clf_lr.predict(X_train)\n",
    "y_test_pred = clf_lr.predict(X_test)"
   ]
  },
  {
   "cell_type": "code",
   "execution_count": 34,
   "id": "4822ad8e",
   "metadata": {},
   "outputs": [],
   "source": [
    "from sklearn.metrics import accuracy_score, confusion_matrix"
   ]
  },
  {
   "cell_type": "code",
   "execution_count": 35,
   "id": "2fdd8b75",
   "metadata": {},
   "outputs": [
    {
     "data": {
      "text/plain": [
       "array([[  0, 161,   0],\n",
       "       [  0, 695,   0],\n",
       "       [  0, 104,   0]], dtype=int64)"
      ]
     },
     "execution_count": 35,
     "metadata": {},
     "output_type": "execute_result"
    }
   ],
   "source": [
    "confusion_matrix(y_train, y_train_pred)"
   ]
  },
  {
   "cell_type": "code",
   "execution_count": 36,
   "id": "6d0d84aa",
   "metadata": {},
   "outputs": [
    {
     "data": {
      "text/plain": [
       "array([[  0,  33,   0],\n",
       "       [  0, 179,   0],\n",
       "       [  0,  28,   0]], dtype=int64)"
      ]
     },
     "execution_count": 36,
     "metadata": {},
     "output_type": "execute_result"
    }
   ],
   "source": [
    "confusion_matrix(y_test,y_test_pred)"
   ]
  },
  {
   "cell_type": "code",
   "execution_count": 37,
   "id": "dc39aafd",
   "metadata": {},
   "outputs": [
    {
     "name": "stdout",
     "output_type": "stream",
     "text": [
      "74.58333333333333\n"
     ]
    }
   ],
   "source": [
    "print(accuracy_score(y_test, y_test_pred)*100)"
   ]
  },
  {
   "cell_type": "code",
   "execution_count": 38,
   "id": "408ade15",
   "metadata": {
    "scrolled": true
   },
   "outputs": [
    {
     "name": "stdout",
     "output_type": "stream",
     "text": [
      "Logistic Regression = 74.58%\n"
     ]
    }
   ],
   "source": [
    "accuracy_score(y_test, y_test_pred)\n",
    "percentage = \"{:.2%}\".format(accuracy_score(y_test, y_test_pred))\n",
    "print(\"Logistic Regression =\" ,percentage)"
   ]
  },
  {
   "cell_type": "markdown",
   "id": "d80342fd",
   "metadata": {},
   "source": [
    "- Logistic Regression = 74.58%"
   ]
  },
  {
   "cell_type": "markdown",
   "id": "d44d6e30",
   "metadata": {},
   "source": [
    "# Random Forest :-"
   ]
  },
  {
   "cell_type": "code",
   "execution_count": 64,
   "id": "0063170c",
   "metadata": {},
   "outputs": [],
   "source": [
    "from sklearn.ensemble import RandomForestClassifier"
   ]
  },
  {
   "cell_type": "code",
   "execution_count": 65,
   "id": "40fa32f8",
   "metadata": {},
   "outputs": [],
   "source": [
    "rf_clf = RandomForestClassifier"
   ]
  },
  {
   "cell_type": "code",
   "execution_count": 66,
   "id": "d63b1bf3",
   "metadata": {},
   "outputs": [],
   "source": [
    "rf_clf = RandomForestClassifier(n_estimators=1000, n_jobs=-1, random_state=42)"
   ]
  },
  {
   "cell_type": "code",
   "execution_count": 67,
   "id": "345bae79",
   "metadata": {},
   "outputs": [],
   "source": [
    "from sklearn import preprocessing"
   ]
  },
  {
   "cell_type": "code",
   "execution_count": 68,
   "id": "d16c7652",
   "metadata": {},
   "outputs": [],
   "source": [
    "scaler = preprocessing.StandardScaler().fit(X_train)\n",
    "X_train_s = scaler.transform(X_train)"
   ]
  },
  {
   "cell_type": "code",
   "execution_count": 69,
   "id": "7347428c",
   "metadata": {},
   "outputs": [],
   "source": [
    "scaler = preprocessing.StandardScaler().fit(X_test)\n",
    "X_test_s = scaler.transform(X_test)"
   ]
  },
  {
   "cell_type": "code",
   "execution_count": 70,
   "id": "60ec5cea",
   "metadata": {},
   "outputs": [
    {
     "data": {
      "text/plain": [
       "RandomForestClassifier(n_estimators=1000, n_jobs=-1, random_state=42)"
      ]
     },
     "execution_count": 70,
     "metadata": {},
     "output_type": "execute_result"
    }
   ],
   "source": [
    "rf_clf.fit(X_train, y_train)"
   ]
  },
  {
   "cell_type": "code",
   "execution_count": 71,
   "id": "8b10e992",
   "metadata": {
    "scrolled": true
   },
   "outputs": [
    {
     "name": "stderr",
     "output_type": "stream",
     "text": [
      "C:\\Users\\Admin\\anaconda3\\lib\\site-packages\\sklearn\\base.py:445: UserWarning: X does not have valid feature names, but RandomForestClassifier was fitted with feature names\n",
      "  warnings.warn(\n",
      "C:\\Users\\Admin\\anaconda3\\lib\\site-packages\\sklearn\\base.py:445: UserWarning: X does not have valid feature names, but RandomForestClassifier was fitted with feature names\n",
      "  warnings.warn(\n"
     ]
    }
   ],
   "source": [
    "y_train_pred = rf_clf.predict(X_train_s)\n",
    "y_test_pred = rf_clf.predict(X_test_s)"
   ]
  },
  {
   "cell_type": "code",
   "execution_count": 72,
   "id": "771b8ed7",
   "metadata": {},
   "outputs": [],
   "source": [
    "from sklearn.metrics import accuracy_score, confusion_matrix"
   ]
  },
  {
   "cell_type": "code",
   "execution_count": 73,
   "id": "54a54e1c",
   "metadata": {},
   "outputs": [
    {
     "data": {
      "text/plain": [
       "array([[ 31,   2,   0],\n",
       "       [  2, 175,   2],\n",
       "       [  0,   4,  24]], dtype=int64)"
      ]
     },
     "execution_count": 73,
     "metadata": {},
     "output_type": "execute_result"
    }
   ],
   "source": [
    "confusion_matrix(y_test,rf_clf.predict(X_test))"
   ]
  },
  {
   "cell_type": "code",
   "execution_count": 74,
   "id": "ecf7b05c",
   "metadata": {},
   "outputs": [
    {
     "data": {
      "text/plain": [
       "0.9583333333333334"
      ]
     },
     "execution_count": 74,
     "metadata": {},
     "output_type": "execute_result"
    }
   ],
   "source": [
    "accuracy_score(y_test, rf_clf.predict(X_test))"
   ]
  },
  {
   "cell_type": "code",
   "execution_count": 75,
   "id": "0095268a",
   "metadata": {},
   "outputs": [
    {
     "name": "stdout",
     "output_type": "stream",
     "text": [
      "Random Forest Accuracy = 95.83%\n"
     ]
    }
   ],
   "source": [
    "accuracy_score(y_test, rf_clf.predict(X_test))\n",
    "percentage = \"{:.2%}\".format(accuracy_score(y_test, rf_clf.predict(X_test)))\n",
    "print(\"Random Forest Accuracy =\" ,percentage)"
   ]
  },
  {
   "cell_type": "markdown",
   "id": "2d48703d",
   "metadata": {},
   "source": [
    "- Random Forest Accuracy = 95.83%"
   ]
  },
  {
   "cell_type": "markdown",
   "id": "a1209fef",
   "metadata": {},
   "source": [
    "# K-Nearest Neighbour :-"
   ]
  },
  {
   "cell_type": "code",
   "execution_count": 77,
   "id": "78abf144",
   "metadata": {},
   "outputs": [],
   "source": [
    "X = df.loc[:,df.columns!=\"PerformanceRating\"]"
   ]
  },
  {
   "cell_type": "code",
   "execution_count": 78,
   "id": "f113d9cf",
   "metadata": {},
   "outputs": [],
   "source": [
    "y = df[\"PerformanceRating\"]"
   ]
  },
  {
   "cell_type": "code",
   "execution_count": 79,
   "id": "f9b41ffe",
   "metadata": {},
   "outputs": [],
   "source": [
    "X_train, X_test, y_train, y_test = train_test_split(X, y,test_size = 0.2, random_state=0)"
   ]
  },
  {
   "cell_type": "code",
   "execution_count": 80,
   "id": "0892d4d5",
   "metadata": {},
   "outputs": [
    {
     "name": "stdout",
     "output_type": "stream",
     "text": [
      "(960, 27) (240, 27) (960,) (240,)\n"
     ]
    }
   ],
   "source": [
    "print(X_train.shape, X_test.shape, y_train.shape, y_test.shape)"
   ]
  },
  {
   "cell_type": "code",
   "execution_count": 81,
   "id": "6b2bc2cc",
   "metadata": {},
   "outputs": [],
   "source": [
    "from sklearn import preprocessing"
   ]
  },
  {
   "cell_type": "code",
   "execution_count": 82,
   "id": "d0a9eb08",
   "metadata": {},
   "outputs": [],
   "source": [
    "scaler = preprocessing.StandardScaler().fit(X_train)\n",
    "X_train_s = scaler.transform(X_train)"
   ]
  },
  {
   "cell_type": "code",
   "execution_count": 83,
   "id": "d88c88fa",
   "metadata": {},
   "outputs": [],
   "source": [
    "scaler = preprocessing.StandardScaler().fit(X_test)\n",
    "X_test_s = scaler.transform(X_test)"
   ]
  },
  {
   "cell_type": "code",
   "execution_count": 84,
   "id": "a6786302",
   "metadata": {},
   "outputs": [
    {
     "data": {
      "text/plain": [
       "KNeighborsClassifier(n_neighbors=3)"
      ]
     },
     "execution_count": 84,
     "metadata": {},
     "output_type": "execute_result"
    }
   ],
   "source": [
    "from sklearn.neighbors import KNeighborsClassifier\n",
    "clf_knn_1 = KNeighborsClassifier(n_neighbors=3)\n",
    "clf_knn_1.fit(X_train_s, y_train)"
   ]
  },
  {
   "cell_type": "code",
   "execution_count": 85,
   "id": "dc43a504",
   "metadata": {},
   "outputs": [],
   "source": [
    "y_train_pred = clf_knn_1.predict(X_train_s)\n",
    "y_test_pred = clf_knn_1.predict(X_test_s)"
   ]
  },
  {
   "cell_type": "code",
   "execution_count": 86,
   "id": "a0050cf1",
   "metadata": {},
   "outputs": [],
   "source": [
    "from sklearn.metrics import accuracy_score, confusion_matrix"
   ]
  },
  {
   "cell_type": "code",
   "execution_count": 87,
   "id": "62651f3a",
   "metadata": {},
   "outputs": [
    {
     "data": {
      "text/plain": [
       "array([[ 14,  19,   0],\n",
       "       [ 22, 154,   3],\n",
       "       [  1,  23,   4]], dtype=int64)"
      ]
     },
     "execution_count": 87,
     "metadata": {},
     "output_type": "execute_result"
    }
   ],
   "source": [
    "confusion_matrix(y_test, y_test_pred)"
   ]
  },
  {
   "cell_type": "code",
   "execution_count": 88,
   "id": "602988c2",
   "metadata": {},
   "outputs": [
    {
     "data": {
      "text/plain": [
       "0.7166666666666667"
      ]
     },
     "execution_count": 88,
     "metadata": {},
     "output_type": "execute_result"
    }
   ],
   "source": [
    "accuracy_score(y_test, y_test_pred)"
   ]
  },
  {
   "cell_type": "code",
   "execution_count": 89,
   "id": "d5167a71",
   "metadata": {},
   "outputs": [
    {
     "name": "stdout",
     "output_type": "stream",
     "text": [
      "KNN Accuracy = 71.67%\n"
     ]
    }
   ],
   "source": [
    "accuracy_score(y_test, y_test_pred)\n",
    "percentage = \"{:.2%}\".format(accuracy_score(y_test, y_test_pred))\n",
    "print(\"KNN Accuracy =\" ,percentage)"
   ]
  },
  {
   "cell_type": "markdown",
   "id": "945299de",
   "metadata": {},
   "source": [
    "- KNN Accuracy = 71.67%"
   ]
  },
  {
   "cell_type": "markdown",
   "id": "dfbcc478",
   "metadata": {},
   "source": [
    "# XGBoost Classifier :-"
   ]
  },
  {
   "cell_type": "code",
   "execution_count": 7,
   "id": "bc560338",
   "metadata": {},
   "outputs": [],
   "source": [
    "import xgboost as xgb"
   ]
  },
  {
   "cell_type": "code",
   "execution_count": 8,
   "id": "bd30a227",
   "metadata": {},
   "outputs": [],
   "source": [
    "xgb_clf = xgb.XGBClassifier(max_depth=5, n_estimator=1000, learning_rate=0.3)"
   ]
  },
  {
   "cell_type": "code",
   "execution_count": 92,
   "id": "996573c2",
   "metadata": {
    "scrolled": false
   },
   "outputs": [
    {
     "name": "stdout",
     "output_type": "stream",
     "text": [
      "[01:13:29] WARNING: ..\\src\\learner.cc:576: \n",
      "Parameters: { \"n_estimator\" } might not be used.\n",
      "\n",
      "  This could be a false alarm, with some parameters getting used by language bindings but\n",
      "  then being mistakenly passed down to XGBoost core, or some parameter actually being used\n",
      "  but getting flagged wrongly here. Please open an issue if you find any such cases.\n",
      "\n",
      "\n",
      "[01:13:29] WARNING: ..\\src\\learner.cc:1115: Starting in XGBoost 1.3.0, the default evaluation metric used with the objective 'multi:softprob' was changed from 'merror' to 'mlogloss'. Explicitly set eval_metric if you'd like to restore the old behavior.\n"
     ]
    },
    {
     "name": "stderr",
     "output_type": "stream",
     "text": [
      "C:\\Users\\Admin\\anaconda3\\lib\\site-packages\\xgboost\\sklearn.py:1224: UserWarning: The use of label encoder in XGBClassifier is deprecated and will be removed in a future release. To remove this warning, do the following: 1) Pass option use_label_encoder=False when constructing XGBClassifier object; and 2) Encode your labels (y) as integers starting with 0, i.e. 0, 1, 2, ..., [num_class - 1].\n",
      "  warnings.warn(label_encoder_deprecation_msg, UserWarning)\n"
     ]
    },
    {
     "data": {
      "text/plain": [
       "XGBClassifier(base_score=0.5, booster='gbtree', colsample_bylevel=1,\n",
       "              colsample_bynode=1, colsample_bytree=1, enable_categorical=False,\n",
       "              gamma=0, gpu_id=-1, importance_type=None,\n",
       "              interaction_constraints='', learning_rate=0.3, max_delta_step=0,\n",
       "              max_depth=5, min_child_weight=1, missing=nan,\n",
       "              monotone_constraints='()', n_estimator=10000, n_estimators=100,\n",
       "              n_jobs=-1, num_parallel_tree=1, objective='multi:softprob',\n",
       "              predictor='auto', random_state=0, reg_alpha=0, reg_lambda=1,\n",
       "              scale_pos_weight=None, subsample=1, tree_method='exact',\n",
       "              validate_parameters=1, verbosity=None)"
      ]
     },
     "execution_count": 92,
     "metadata": {},
     "output_type": "execute_result"
    }
   ],
   "source": [
    "xgb_clf.fit(X_train, y_train)"
   ]
  },
  {
   "cell_type": "code",
   "execution_count": 93,
   "id": "fb9e1863",
   "metadata": {},
   "outputs": [],
   "source": [
    "y_train_pred = xgb_clf.predict(X_train)\n",
    "y_test_pred = xgb_clf.predict(X_test)"
   ]
  },
  {
   "cell_type": "code",
   "execution_count": 94,
   "id": "73757948",
   "metadata": {},
   "outputs": [],
   "source": [
    "from sklearn.metrics import accuracy_score, confusion_matrix"
   ]
  },
  {
   "cell_type": "code",
   "execution_count": 95,
   "id": "b1e8b18a",
   "metadata": {},
   "outputs": [
    {
     "data": {
      "text/plain": [
       "array([[ 32,   1,   0],\n",
       "       [  3, 172,   4],\n",
       "       [  1,   3,  24]], dtype=int64)"
      ]
     },
     "execution_count": 95,
     "metadata": {},
     "output_type": "execute_result"
    }
   ],
   "source": [
    "confusion_matrix(y_test, y_test_pred)"
   ]
  },
  {
   "cell_type": "code",
   "execution_count": 96,
   "id": "ca8df163",
   "metadata": {},
   "outputs": [
    {
     "data": {
      "text/plain": [
       "0.95"
      ]
     },
     "execution_count": 96,
     "metadata": {},
     "output_type": "execute_result"
    }
   ],
   "source": [
    "accuracy_score(y_test, y_test_pred)"
   ]
  },
  {
   "cell_type": "code",
   "execution_count": 97,
   "id": "33b2976d",
   "metadata": {},
   "outputs": [
    {
     "name": "stdout",
     "output_type": "stream",
     "text": [
      "XGBoost Accuracy = 95.00%\n"
     ]
    }
   ],
   "source": [
    "accuracy_score(y_test, y_test_pred)\n",
    "percentage = \"{:.2%}\".format(accuracy_score(y_test, y_test_pred))\n",
    "print(\"XGBoost Accuracy =\" ,percentage)"
   ]
  },
  {
   "cell_type": "markdown",
   "id": "88eb128a",
   "metadata": {},
   "source": [
    "- XGBoost Accuracy = 95.00%"
   ]
  },
  {
   "cell_type": "code",
   "execution_count": 98,
   "id": "153f9e52",
   "metadata": {},
   "outputs": [
    {
     "data": {
      "text/plain": [
       "<AxesSubplot:title={'center':'Feature importance'}, xlabel='F score', ylabel='Features'>"
      ]
     },
     "execution_count": 98,
     "metadata": {},
     "output_type": "execute_result"
    },
    {
     "data": {
      "image/png": "[encoded data removed]",
      "text/plain": [
       "<Figure size 432x288 with 1 Axes>"
      ]
     },
     "metadata": {
      "needs_background": "light"
     },
     "output_type": "display_data"
    }
   ],
   "source": [
    "xgb.plot_importance(xgb_clf)"
   ]
  },
  {
   "cell_type": "markdown",
   "id": "22ca7d63",
   "metadata": {},
   "source": [
    "### The most important to least important feature"
   ]
  },
  {
   "cell_type": "markdown",
   "id": "d9b8493d",
   "metadata": {},
   "source": [
    "# Model Performance :- "
   ]
  },
  {
   "cell_type": "markdown",
   "id": "f7e7213f",
   "metadata": {},
   "source": [
    "### Logistic Regression =     74.58%\n",
    "### Random Forest =           95.83%\n",
    "### K-Nearest Neighbour =     71.67%\n",
    "### XGBoost Classifier =      95.00%"
   ]
  },
  {
   "cell_type": "markdown",
   "id": "ff0d6e65",
   "metadata": {},
   "source": [
    "# Classification Report"
   ]
  },
  {
   "cell_type": "code",
   "execution_count": 105,
   "id": "20b11bdd",
   "metadata": {},
   "outputs": [
    {
     "name": "stdout",
     "output_type": "stream",
     "text": [
      "              precision    recall  f1-score   support\n",
      "\n",
      "           2       0.89      0.97      0.93        33\n",
      "           3       0.98      0.96      0.97       179\n",
      "           4       0.86      0.86      0.86        28\n",
      "\n",
      "    accuracy                           0.95       240\n",
      "   macro avg       0.91      0.93      0.92       240\n",
      "weighted avg       0.95      0.95      0.95       240\n",
      "\n"
     ]
    }
   ],
   "source": [
    "from sklearn.metrics import classification_report\n",
    "print(classification_report(y_test, y_test_pred))"
   ]
  },
  {
   "cell_type": "markdown",
   "id": "f56cb778",
   "metadata": {},
   "source": [
    "# Q1. Department wise performances."
   ]
  },
  {
   "cell_type": "code",
   "execution_count": 4,
   "id": "ce1d4d02",
   "metadata": {},
   "outputs": [
    {
     "data": {
      "text/plain": [
       "Sales                     373\n",
       "Development               361\n",
       "Research & Development    343\n",
       "Human Resources            54\n",
       "Finance                    49\n",
       "Data Science               20\n",
       "Name: EmpDepartment, dtype: int64"
      ]
     },
     "execution_count": 4,
     "metadata": {},
     "output_type": "execute_result"
    },
    {
     "data": {
      "image/png": "[encoded data removed]",
      "text/plain": [
       "<Figure size 1008x360 with 1 Axes>"
      ]
     },
     "metadata": {
      "needs_background": "light"
     },
     "output_type": "display_data"
    }
   ],
   "source": [
    "plt.figure(figsize=(14, 5))\n",
    "sns.countplot(x=df['EmpDepartment'],palette='rainbow')\n",
    "df[\"EmpDepartment\"].value_counts()"
   ]
  },
  {
   "cell_type": "markdown",
   "id": "afc3e75d",
   "metadata": {},
   "source": [
    "- Sales\n",
    "- Development \n",
    "- Research & Development \n",
    "Department performance is good as compared to other Depatments"
   ]
  },
  {
   "cell_type": "markdown",
   "id": "4d18ca25",
   "metadata": {},
   "source": [
    "# Q2. Top 3 Important Factors effecting employee performance."
   ]
  },
  {
   "cell_type": "code",
   "execution_count": 101,
   "id": "c9c13429",
   "metadata": {},
   "outputs": [
    {
     "data": {
      "text/plain": [
       "<AxesSubplot:title={'center':'Feature importance'}, xlabel='F score', ylabel='Features'>"
      ]
     },
     "execution_count": 101,
     "metadata": {},
     "output_type": "execute_result"
    },
    {
     "data": {
      "image/png": "[encoded data removed]",
      "text/plain": [
       "<Figure size 432x288 with 1 Axes>"
      ]
     },
     "metadata": {
      "needs_background": "light"
     },
     "output_type": "display_data"
    }
   ],
   "source": [
    "xgb.plot_importance(xgb_clf)"
   ]
  },
  {
   "cell_type": "markdown",
   "id": "a46a9055",
   "metadata": {},
   "source": [
    "####   Emp Last Salary Hike Percent, Emp Hourly Rate, Years Since Last Promotion"
   ]
  },
  {
   "cell_type": "markdown",
   "id": "9c700985",
   "metadata": {},
   "source": [
    "#### These are the Top 3 Important Factors effecting employee performance"
   ]
  },
  {
   "cell_type": "markdown",
   "id": "ea20a346",
   "metadata": {},
   "source": [
    "# Q3.A trained model which can predict the employee performance based on factors as inputs."
   ]
  },
  {
   "cell_type": "markdown",
   "id": "fc2ea87e",
   "metadata": {},
   "source": [
    "####  Random Forest having the highest accuracy of 95.83% \n",
    "#### which can predict the employee performance based on factors"
   ]
  },
  {
   "cell_type": "markdown",
   "id": "eafca645",
   "metadata": {},
   "source": [
    "# Q4.Recommendations to improve the employee performance based on insights from analysis.\n"
   ]
  },
  {
   "cell_type": "markdown",
   "id": "a3169fe0",
   "metadata": {},
   "source": [
    "- The factors to improve employee perfomance is we have to increase Salary hike percentage, Employees promotion and hourly rate"
   ]
  },
  {
   "cell_type": "markdown",
   "id": "f2deaa52",
   "metadata": {},
   "source": [
    "- From Analysis we have to increase our focus on Departments of employee because some departments are not performing well"
   ]
  },
  {
   "cell_type": "markdown",
   "id": "e2cdb408",
   "metadata": {},
   "source": [
    "- To increase the employee performance Employee Satisfication is important because it is highly related to Employee performance"
   ]
  },
  {
   "cell_type": "markdown",
   "id": "95bb5dcb",
   "metadata": {},
   "source": [
    "- Good performing Employees are those who have more work experience,good job position and satisfactory job role."
   ]
  }
 ],
 "metadata": {
  "kernelspec": {
   "display_name": "Python 3",
   "language": "python",
   "name": "python3"
  },
  "language_info": {
   "codemirror_mode": {
    "name": "ipython",
    "version": 3
   },
   "file_extension": ".py",
   "mimetype": "text/x-python",
   "name": "python",
   "nbconvert_exporter": "python",
   "pygments_lexer": "ipython3",
   "version": "3.8.8"
  }
 },
 "nbformat": 4,
 "nbformat_minor": 5
}
